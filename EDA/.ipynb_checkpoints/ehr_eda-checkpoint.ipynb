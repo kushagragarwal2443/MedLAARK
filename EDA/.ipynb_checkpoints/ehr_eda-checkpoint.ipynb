{
 "cells": [
  {
   "cell_type": "code",
   "execution_count": 2,
   "id": "28198ed5",
   "metadata": {},
   "outputs": [],
   "source": [
    "import numpy as np\n",
    "import pandas as pd\n",
    "import matplotlib.pyplot as plt"
   ]
  },
  {
   "cell_type": "markdown",
   "id": "82cd6159",
   "metadata": {},
   "source": [
    "### Admissions"
   ]
  },
  {
   "cell_type": "code",
   "execution_count": 3,
   "id": "cc22f7d7",
   "metadata": {},
   "outputs": [
    {
     "data": {
      "text/html": [
       "<div>\n",
       "<style scoped>\n",
       "    .dataframe tbody tr th:only-of-type {\n",
       "        vertical-align: middle;\n",
       "    }\n",
       "\n",
       "    .dataframe tbody tr th {\n",
       "        vertical-align: top;\n",
       "    }\n",
       "\n",
       "    .dataframe thead th {\n",
       "        text-align: right;\n",
       "    }\n",
       "</style>\n",
       "<table border=\"1\" class=\"dataframe\">\n",
       "  <thead>\n",
       "    <tr style=\"text-align: right;\">\n",
       "      <th></th>\n",
       "      <th>subject_id</th>\n",
       "      <th>hadm_id</th>\n",
       "      <th>admittime</th>\n",
       "      <th>dischtime</th>\n",
       "      <th>deathtime</th>\n",
       "      <th>admission_type</th>\n",
       "      <th>admit_provider_id</th>\n",
       "      <th>admission_location</th>\n",
       "      <th>discharge_location</th>\n",
       "      <th>insurance</th>\n",
       "      <th>language</th>\n",
       "      <th>marital_status</th>\n",
       "      <th>race</th>\n",
       "      <th>edregtime</th>\n",
       "      <th>edouttime</th>\n",
       "      <th>hospital_expire_flag</th>\n",
       "    </tr>\n",
       "  </thead>\n",
       "  <tbody>\n",
       "    <tr>\n",
       "      <th>0</th>\n",
       "      <td>10000032</td>\n",
       "      <td>22595853</td>\n",
       "      <td>2180-05-06 22:23:00</td>\n",
       "      <td>2180-05-07 17:15:00</td>\n",
       "      <td>NaN</td>\n",
       "      <td>URGENT</td>\n",
       "      <td>P874LG</td>\n",
       "      <td>TRANSFER FROM HOSPITAL</td>\n",
       "      <td>HOME</td>\n",
       "      <td>Other</td>\n",
       "      <td>ENGLISH</td>\n",
       "      <td>WIDOWED</td>\n",
       "      <td>WHITE</td>\n",
       "      <td>2180-05-06 19:17:00</td>\n",
       "      <td>2180-05-06 23:30:00</td>\n",
       "      <td>0</td>\n",
       "    </tr>\n",
       "    <tr>\n",
       "      <th>1</th>\n",
       "      <td>10000032</td>\n",
       "      <td>22841357</td>\n",
       "      <td>2180-06-26 18:27:00</td>\n",
       "      <td>2180-06-27 18:49:00</td>\n",
       "      <td>NaN</td>\n",
       "      <td>EW EMER.</td>\n",
       "      <td>P09Q6Y</td>\n",
       "      <td>EMERGENCY ROOM</td>\n",
       "      <td>HOME</td>\n",
       "      <td>Medicaid</td>\n",
       "      <td>ENGLISH</td>\n",
       "      <td>WIDOWED</td>\n",
       "      <td>WHITE</td>\n",
       "      <td>2180-06-26 15:54:00</td>\n",
       "      <td>2180-06-26 21:31:00</td>\n",
       "      <td>0</td>\n",
       "    </tr>\n",
       "    <tr>\n",
       "      <th>2</th>\n",
       "      <td>10000032</td>\n",
       "      <td>25742920</td>\n",
       "      <td>2180-08-05 23:44:00</td>\n",
       "      <td>2180-08-07 17:50:00</td>\n",
       "      <td>NaN</td>\n",
       "      <td>EW EMER.</td>\n",
       "      <td>P60CC5</td>\n",
       "      <td>EMERGENCY ROOM</td>\n",
       "      <td>HOSPICE</td>\n",
       "      <td>Medicaid</td>\n",
       "      <td>ENGLISH</td>\n",
       "      <td>WIDOWED</td>\n",
       "      <td>WHITE</td>\n",
       "      <td>2180-08-05 20:58:00</td>\n",
       "      <td>2180-08-06 01:44:00</td>\n",
       "      <td>0</td>\n",
       "    </tr>\n",
       "    <tr>\n",
       "      <th>3</th>\n",
       "      <td>10000032</td>\n",
       "      <td>29079034</td>\n",
       "      <td>2180-07-23 12:35:00</td>\n",
       "      <td>2180-07-25 17:55:00</td>\n",
       "      <td>NaN</td>\n",
       "      <td>EW EMER.</td>\n",
       "      <td>P30KEH</td>\n",
       "      <td>EMERGENCY ROOM</td>\n",
       "      <td>HOME</td>\n",
       "      <td>Medicaid</td>\n",
       "      <td>ENGLISH</td>\n",
       "      <td>WIDOWED</td>\n",
       "      <td>WHITE</td>\n",
       "      <td>2180-07-23 05:54:00</td>\n",
       "      <td>2180-07-23 14:00:00</td>\n",
       "      <td>0</td>\n",
       "    </tr>\n",
       "    <tr>\n",
       "      <th>4</th>\n",
       "      <td>10000068</td>\n",
       "      <td>25022803</td>\n",
       "      <td>2160-03-03 23:16:00</td>\n",
       "      <td>2160-03-04 06:26:00</td>\n",
       "      <td>NaN</td>\n",
       "      <td>EU OBSERVATION</td>\n",
       "      <td>P51VDL</td>\n",
       "      <td>EMERGENCY ROOM</td>\n",
       "      <td>NaN</td>\n",
       "      <td>Other</td>\n",
       "      <td>ENGLISH</td>\n",
       "      <td>SINGLE</td>\n",
       "      <td>WHITE</td>\n",
       "      <td>2160-03-03 21:55:00</td>\n",
       "      <td>2160-03-04 06:26:00</td>\n",
       "      <td>0</td>\n",
       "    </tr>\n",
       "  </tbody>\n",
       "</table>\n",
       "</div>"
      ],
      "text/plain": [
       "   subject_id   hadm_id            admittime            dischtime deathtime  \\\n",
       "0    10000032  22595853  2180-05-06 22:23:00  2180-05-07 17:15:00       NaN   \n",
       "1    10000032  22841357  2180-06-26 18:27:00  2180-06-27 18:49:00       NaN   \n",
       "2    10000032  25742920  2180-08-05 23:44:00  2180-08-07 17:50:00       NaN   \n",
       "3    10000032  29079034  2180-07-23 12:35:00  2180-07-25 17:55:00       NaN   \n",
       "4    10000068  25022803  2160-03-03 23:16:00  2160-03-04 06:26:00       NaN   \n",
       "\n",
       "   admission_type admit_provider_id      admission_location  \\\n",
       "0          URGENT            P874LG  TRANSFER FROM HOSPITAL   \n",
       "1        EW EMER.            P09Q6Y          EMERGENCY ROOM   \n",
       "2        EW EMER.            P60CC5          EMERGENCY ROOM   \n",
       "3        EW EMER.            P30KEH          EMERGENCY ROOM   \n",
       "4  EU OBSERVATION            P51VDL          EMERGENCY ROOM   \n",
       "\n",
       "  discharge_location insurance language marital_status   race  \\\n",
       "0               HOME     Other  ENGLISH        WIDOWED  WHITE   \n",
       "1               HOME  Medicaid  ENGLISH        WIDOWED  WHITE   \n",
       "2            HOSPICE  Medicaid  ENGLISH        WIDOWED  WHITE   \n",
       "3               HOME  Medicaid  ENGLISH        WIDOWED  WHITE   \n",
       "4                NaN     Other  ENGLISH         SINGLE  WHITE   \n",
       "\n",
       "             edregtime            edouttime  hospital_expire_flag  \n",
       "0  2180-05-06 19:17:00  2180-05-06 23:30:00                     0  \n",
       "1  2180-06-26 15:54:00  2180-06-26 21:31:00                     0  \n",
       "2  2180-08-05 20:58:00  2180-08-06 01:44:00                     0  \n",
       "3  2180-07-23 05:54:00  2180-07-23 14:00:00                     0  \n",
       "4  2160-03-03 21:55:00  2160-03-04 06:26:00                     0  "
      ]
     },
     "execution_count": 3,
     "metadata": {},
     "output_type": "execute_result"
    }
   ],
   "source": [
    "admissions_df = pd.read_csv(\"../../../../mimic-iv-2.2/hosp/admissions.csv\")\n",
    "admissions_df.head()"
   ]
  },
  {
   "cell_type": "code",
   "execution_count": 5,
   "id": "59c79a03",
   "metadata": {},
   "outputs": [
    {
     "name": "stdout",
     "output_type": "stream",
     "text": [
      "180733\n",
      "431231\n",
      "2.3860114090951847\n"
     ]
    }
   ],
   "source": [
    "subjectids = len(set(admissions_df[\"subject_id\"]))\n",
    "hadmids = len(set(admissions_df[\"hadm_id\"]))\n",
    "print(subjectids)\n",
    "print(hadmids)\n",
    "print(hadmids/subjectids)"
   ]
  },
  {
   "cell_type": "code",
   "execution_count": 6,
   "id": "65691a66",
   "metadata": {},
   "outputs": [
    {
     "name": "stdout",
     "output_type": "stream",
     "text": [
      "8609\n"
     ]
    }
   ],
   "source": [
    "print(np.sum(np.array(admissions_df['hospital_expire_flag'])))"
   ]
  },
  {
   "cell_type": "markdown",
   "id": "16e004c5",
   "metadata": {},
   "source": [
    "### PATIENTS"
   ]
  },
  {
   "cell_type": "code",
   "execution_count": 7,
   "id": "07d012be",
   "metadata": {},
   "outputs": [
    {
     "data": {
      "text/html": [
       "<div>\n",
       "<style scoped>\n",
       "    .dataframe tbody tr th:only-of-type {\n",
       "        vertical-align: middle;\n",
       "    }\n",
       "\n",
       "    .dataframe tbody tr th {\n",
       "        vertical-align: top;\n",
       "    }\n",
       "\n",
       "    .dataframe thead th {\n",
       "        text-align: right;\n",
       "    }\n",
       "</style>\n",
       "<table border=\"1\" class=\"dataframe\">\n",
       "  <thead>\n",
       "    <tr style=\"text-align: right;\">\n",
       "      <th></th>\n",
       "      <th>subject_id</th>\n",
       "      <th>gender</th>\n",
       "      <th>anchor_age</th>\n",
       "      <th>anchor_year</th>\n",
       "      <th>anchor_year_group</th>\n",
       "      <th>dod</th>\n",
       "    </tr>\n",
       "  </thead>\n",
       "  <tbody>\n",
       "    <tr>\n",
       "      <th>0</th>\n",
       "      <td>10000032</td>\n",
       "      <td>F</td>\n",
       "      <td>52</td>\n",
       "      <td>2180</td>\n",
       "      <td>2014 - 2016</td>\n",
       "      <td>2180-09-09</td>\n",
       "    </tr>\n",
       "    <tr>\n",
       "      <th>1</th>\n",
       "      <td>10000048</td>\n",
       "      <td>F</td>\n",
       "      <td>23</td>\n",
       "      <td>2126</td>\n",
       "      <td>2008 - 2010</td>\n",
       "      <td>NaN</td>\n",
       "    </tr>\n",
       "    <tr>\n",
       "      <th>2</th>\n",
       "      <td>10000068</td>\n",
       "      <td>F</td>\n",
       "      <td>19</td>\n",
       "      <td>2160</td>\n",
       "      <td>2008 - 2010</td>\n",
       "      <td>NaN</td>\n",
       "    </tr>\n",
       "    <tr>\n",
       "      <th>3</th>\n",
       "      <td>10000084</td>\n",
       "      <td>M</td>\n",
       "      <td>72</td>\n",
       "      <td>2160</td>\n",
       "      <td>2017 - 2019</td>\n",
       "      <td>2161-02-13</td>\n",
       "    </tr>\n",
       "    <tr>\n",
       "      <th>4</th>\n",
       "      <td>10000102</td>\n",
       "      <td>F</td>\n",
       "      <td>27</td>\n",
       "      <td>2136</td>\n",
       "      <td>2008 - 2010</td>\n",
       "      <td>NaN</td>\n",
       "    </tr>\n",
       "  </tbody>\n",
       "</table>\n",
       "</div>"
      ],
      "text/plain": [
       "   subject_id gender  anchor_age  anchor_year anchor_year_group         dod\n",
       "0    10000032      F          52         2180       2014 - 2016  2180-09-09\n",
       "1    10000048      F          23         2126       2008 - 2010         NaN\n",
       "2    10000068      F          19         2160       2008 - 2010         NaN\n",
       "3    10000084      M          72         2160       2017 - 2019  2161-02-13\n",
       "4    10000102      F          27         2136       2008 - 2010         NaN"
      ]
     },
     "execution_count": 7,
     "metadata": {},
     "output_type": "execute_result"
    }
   ],
   "source": [
    "patients_df = pd.read_csv(\"../../../../mimic-iv-2.2/hosp/patients.csv\")\n",
    "patients_df.head()"
   ]
  },
  {
   "cell_type": "code",
   "execution_count": 8,
   "id": "16f18023",
   "metadata": {},
   "outputs": [
    {
     "name": "stdout",
     "output_type": "stream",
     "text": [
      "48.53988829276105\n"
     ]
    }
   ],
   "source": [
    "print(np.average(np.array(patients_df['anchor_age'])))"
   ]
  },
  {
   "cell_type": "code",
   "execution_count": 12,
   "id": "b1c965e5",
   "metadata": {},
   "outputs": [
    {
     "name": "stdout",
     "output_type": "stream",
     "text": [
      "         subject_id     anchor_age    anchor_year\n",
      "count  2.997120e+05  299712.000000  299712.000000\n",
      "mean   1.500885e+07      48.539888    2151.124056\n",
      "std    2.885019e+06      20.895650      23.464598\n",
      "min    1.000003e+07      18.000000    2110.000000\n",
      "25%    1.250796e+07      29.000000    2131.000000\n",
      "50%    1.501416e+07      48.000000    2151.000000\n",
      "75%    1.750489e+07      65.000000    2171.000000\n",
      "max    1.999999e+07      91.000000    2208.000000\n"
     ]
    }
   ],
   "source": [
    "print(patients_df.describe())"
   ]
  },
  {
   "cell_type": "code",
   "execution_count": 13,
   "id": "bfcf9d2f",
   "metadata": {},
   "outputs": [
    {
     "name": "stdout",
     "output_type": "stream",
     "text": [
      "Number of males: 141159\n",
      "Number of females: 158553\n"
     ]
    }
   ],
   "source": [
    "male_count = patients_df[patients_df['gender'] == 'M'].shape[0]\n",
    "female_count = patients_df[patients_df['gender'] == 'F'].shape[0]\n",
    "\n",
    "print(\"Number of males:\", male_count)\n",
    "print(\"Number of females:\", female_count)"
   ]
  },
  {
   "cell_type": "markdown",
   "id": "a270f531",
   "metadata": {},
   "source": [
    "### ICU STAYS"
   ]
  },
  {
   "cell_type": "code",
   "execution_count": 14,
   "id": "5154c90c",
   "metadata": {},
   "outputs": [
    {
     "data": {
      "text/html": [
       "<div>\n",
       "<style scoped>\n",
       "    .dataframe tbody tr th:only-of-type {\n",
       "        vertical-align: middle;\n",
       "    }\n",
       "\n",
       "    .dataframe tbody tr th {\n",
       "        vertical-align: top;\n",
       "    }\n",
       "\n",
       "    .dataframe thead th {\n",
       "        text-align: right;\n",
       "    }\n",
       "</style>\n",
       "<table border=\"1\" class=\"dataframe\">\n",
       "  <thead>\n",
       "    <tr style=\"text-align: right;\">\n",
       "      <th></th>\n",
       "      <th>subject_id</th>\n",
       "      <th>hadm_id</th>\n",
       "      <th>stay_id</th>\n",
       "      <th>first_careunit</th>\n",
       "      <th>last_careunit</th>\n",
       "      <th>intime</th>\n",
       "      <th>outtime</th>\n",
       "      <th>los</th>\n",
       "    </tr>\n",
       "  </thead>\n",
       "  <tbody>\n",
       "    <tr>\n",
       "      <th>0</th>\n",
       "      <td>10000032</td>\n",
       "      <td>29079034</td>\n",
       "      <td>39553978</td>\n",
       "      <td>Medical Intensive Care Unit (MICU)</td>\n",
       "      <td>Medical Intensive Care Unit (MICU)</td>\n",
       "      <td>2180-07-23 14:00:00</td>\n",
       "      <td>2180-07-23 23:50:47</td>\n",
       "      <td>0.410266</td>\n",
       "    </tr>\n",
       "    <tr>\n",
       "      <th>1</th>\n",
       "      <td>10000980</td>\n",
       "      <td>26913865</td>\n",
       "      <td>39765666</td>\n",
       "      <td>Medical Intensive Care Unit (MICU)</td>\n",
       "      <td>Medical Intensive Care Unit (MICU)</td>\n",
       "      <td>2189-06-27 08:42:00</td>\n",
       "      <td>2189-06-27 20:38:27</td>\n",
       "      <td>0.497535</td>\n",
       "    </tr>\n",
       "    <tr>\n",
       "      <th>2</th>\n",
       "      <td>10001217</td>\n",
       "      <td>24597018</td>\n",
       "      <td>37067082</td>\n",
       "      <td>Surgical Intensive Care Unit (SICU)</td>\n",
       "      <td>Surgical Intensive Care Unit (SICU)</td>\n",
       "      <td>2157-11-20 19:18:02</td>\n",
       "      <td>2157-11-21 22:08:00</td>\n",
       "      <td>1.118032</td>\n",
       "    </tr>\n",
       "    <tr>\n",
       "      <th>3</th>\n",
       "      <td>10001217</td>\n",
       "      <td>27703517</td>\n",
       "      <td>34592300</td>\n",
       "      <td>Surgical Intensive Care Unit (SICU)</td>\n",
       "      <td>Surgical Intensive Care Unit (SICU)</td>\n",
       "      <td>2157-12-19 15:42:24</td>\n",
       "      <td>2157-12-20 14:27:41</td>\n",
       "      <td>0.948113</td>\n",
       "    </tr>\n",
       "    <tr>\n",
       "      <th>4</th>\n",
       "      <td>10001725</td>\n",
       "      <td>25563031</td>\n",
       "      <td>31205490</td>\n",
       "      <td>Medical/Surgical Intensive Care Unit (MICU/SICU)</td>\n",
       "      <td>Medical/Surgical Intensive Care Unit (MICU/SICU)</td>\n",
       "      <td>2110-04-11 15:52:22</td>\n",
       "      <td>2110-04-12 23:59:56</td>\n",
       "      <td>1.338588</td>\n",
       "    </tr>\n",
       "  </tbody>\n",
       "</table>\n",
       "</div>"
      ],
      "text/plain": [
       "   subject_id   hadm_id   stay_id  \\\n",
       "0    10000032  29079034  39553978   \n",
       "1    10000980  26913865  39765666   \n",
       "2    10001217  24597018  37067082   \n",
       "3    10001217  27703517  34592300   \n",
       "4    10001725  25563031  31205490   \n",
       "\n",
       "                                     first_careunit  \\\n",
       "0                Medical Intensive Care Unit (MICU)   \n",
       "1                Medical Intensive Care Unit (MICU)   \n",
       "2               Surgical Intensive Care Unit (SICU)   \n",
       "3               Surgical Intensive Care Unit (SICU)   \n",
       "4  Medical/Surgical Intensive Care Unit (MICU/SICU)   \n",
       "\n",
       "                                      last_careunit               intime  \\\n",
       "0                Medical Intensive Care Unit (MICU)  2180-07-23 14:00:00   \n",
       "1                Medical Intensive Care Unit (MICU)  2189-06-27 08:42:00   \n",
       "2               Surgical Intensive Care Unit (SICU)  2157-11-20 19:18:02   \n",
       "3               Surgical Intensive Care Unit (SICU)  2157-12-19 15:42:24   \n",
       "4  Medical/Surgical Intensive Care Unit (MICU/SICU)  2110-04-11 15:52:22   \n",
       "\n",
       "               outtime       los  \n",
       "0  2180-07-23 23:50:47  0.410266  \n",
       "1  2189-06-27 20:38:27  0.497535  \n",
       "2  2157-11-21 22:08:00  1.118032  \n",
       "3  2157-12-20 14:27:41  0.948113  \n",
       "4  2110-04-12 23:59:56  1.338588  "
      ]
     },
     "execution_count": 14,
     "metadata": {},
     "output_type": "execute_result"
    }
   ],
   "source": [
    "icustays_df = pd.read_csv(\"../../../../mimic-iv-2.2/icu/icustays.csv\")\n",
    "icustays_df.head()"
   ]
  },
  {
   "cell_type": "code",
   "execution_count": 15,
   "id": "8f760ac5",
   "metadata": {},
   "outputs": [
    {
     "name": "stdout",
     "output_type": "stream",
     "text": [
      "         subject_id       hadm_id       stay_id           los\n",
      "count  7.318100e+04  7.318100e+04  7.318100e+04  73181.000000\n",
      "mean   1.499819e+07  2.498133e+07  3.499274e+07      3.451931\n",
      "std    2.886067e+06  2.884400e+06  2.889261e+06      4.922840\n",
      "min    1.000003e+07  2.000009e+07  3.000015e+07      0.001250\n",
      "25%    1.249126e+07  2.248335e+07  3.248935e+07      1.084225\n",
      "50%    1.499894e+07  2.496964e+07  3.499389e+07      1.926782\n",
      "75%    1.751327e+07  2.747180e+07  3.748840e+07      3.713322\n",
      "max    1.999999e+07  2.999983e+07  3.999981e+07    110.232280\n"
     ]
    }
   ],
   "source": [
    "print(icustays_df.describe())"
   ]
  },
  {
   "cell_type": "code",
   "execution_count": 16,
   "id": "2d352cce",
   "metadata": {},
   "outputs": [
    {
     "name": "stdout",
     "output_type": "stream",
     "text": [
      "50920\n",
      "66239\n",
      "73181\n",
      "1.3008444619010213\n",
      "1.4371759622937943\n",
      "1.1048023067981099\n"
     ]
    }
   ],
   "source": [
    "subjectids = len(set(icustays_df[\"subject_id\"]))\n",
    "hadmids = len(set(icustays_df[\"hadm_id\"]))\n",
    "stayids = len(set(icustays_df[\"stay_id\"]))\n",
    "print(subjectids)\n",
    "print(hadmids)\n",
    "print(stayids)\n",
    "print(hadmids/subjectids)\n",
    "print(stayids/subjectids)\n",
    "print(stayids/hadmids)"
   ]
  },
  {
   "cell_type": "code",
   "execution_count": 27,
   "id": "13c40dde",
   "metadata": {},
   "outputs": [
    {
     "data": {
      "image/png": "[encoded data removed]",
      "text/plain": [
       "<Figure size 640x480 with 1 Axes>"
      ]
     },
     "metadata": {},
     "output_type": "display_data"
    }
   ],
   "source": [
    "plt.xlim(0,20)\n",
    "plt.hist(icustays_df[icustays_df['los']<20]['los'], color='green', edgecolor='black')\n",
    "plt.xlabel('Values')\n",
    "plt.ylabel('Length of Stay')\n",
    "# plt.title('Histogram of Values')\n",
    "plt.grid(True)\n",
    "plt.show()"
   ]
  },
  {
   "cell_type": "code",
   "execution_count": null,
   "id": "2b80088f",
   "metadata": {},
   "outputs": [],
   "source": []
  }
 ],
 "metadata": {
  "kernelspec": {
   "display_name": "Python 3 (ipykernel)",
   "language": "python",
   "name": "python3"
  },
  "language_info": {
   "codemirror_mode": {
    "name": "ipython",
    "version": 3
   },
   "file_extension": ".py",
   "mimetype": "text/x-python",
   "name": "python",
   "nbconvert_exporter": "python",
   "pygments_lexer": "ipython3",
   "version": "3.11.4"
  }
 },
 "nbformat": 4,
 "nbformat_minor": 5
}
