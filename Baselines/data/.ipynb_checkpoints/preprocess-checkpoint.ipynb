{
 "cells": [
  {
   "cell_type": "code",
   "execution_count": 22,
   "id": "8f3dd132",
   "metadata": {},
   "outputs": [],
   "source": [
    "import numpy as np\n",
    "import pandas as pd\n",
    "import math\n",
    "import random\n",
    "import matplotlib.pyplot as plt\n",
    "import warnings\n",
    "import json\n",
    "warnings.filterwarnings('ignore')"
   ]
  },
  {
   "cell_type": "code",
   "execution_count": 49,
   "id": "e826dd99",
   "metadata": {},
   "outputs": [
    {
     "ename": "FileNotFoundError",
     "evalue": "[Errno 2] No such file or directory: './subj_hadm_process/pancan_subj.npy'",
     "output_type": "error",
     "traceback": [
      "\u001b[0;31m---------------------------------------------------------------------------\u001b[0m",
      "\u001b[0;31mFileNotFoundError\u001b[0m                         Traceback (most recent call last)",
      "Cell \u001b[0;32mIn[49], line 1\u001b[0m\n\u001b[0;32m----> 1\u001b[0m subj_y \u001b[38;5;241m=\u001b[39m np\u001b[38;5;241m.\u001b[39mload(\u001b[38;5;124m\"\u001b[39m\u001b[38;5;124m./subj_hadm_process/pancan_subj.npy\u001b[39m\u001b[38;5;124m\"\u001b[39m)\n\u001b[1;32m      2\u001b[0m \u001b[38;5;28mprint\u001b[39m(\u001b[38;5;28mlen\u001b[39m(subj_y), subj_y[\u001b[38;5;241m3\u001b[39m])\n\u001b[1;32m      3\u001b[0m subj_n \u001b[38;5;241m=\u001b[39m np\u001b[38;5;241m.\u001b[39mload(\u001b[38;5;124m\"\u001b[39m\u001b[38;5;124m./subj_hadm_process/safe_subj.npy\u001b[39m\u001b[38;5;124m\"\u001b[39m)\n",
      "File \u001b[0;32m~/anaconda3/lib/python3.11/site-packages/numpy/lib/npyio.py:405\u001b[0m, in \u001b[0;36mload\u001b[0;34m(file, mmap_mode, allow_pickle, fix_imports, encoding, max_header_size)\u001b[0m\n\u001b[1;32m    403\u001b[0m     own_fid \u001b[38;5;241m=\u001b[39m \u001b[38;5;28;01mFalse\u001b[39;00m\n\u001b[1;32m    404\u001b[0m \u001b[38;5;28;01melse\u001b[39;00m:\n\u001b[0;32m--> 405\u001b[0m     fid \u001b[38;5;241m=\u001b[39m stack\u001b[38;5;241m.\u001b[39menter_context(\u001b[38;5;28mopen\u001b[39m(os_fspath(file), \u001b[38;5;124m\"\u001b[39m\u001b[38;5;124mrb\u001b[39m\u001b[38;5;124m\"\u001b[39m))\n\u001b[1;32m    406\u001b[0m     own_fid \u001b[38;5;241m=\u001b[39m \u001b[38;5;28;01mTrue\u001b[39;00m\n\u001b[1;32m    408\u001b[0m \u001b[38;5;66;03m# Code to distinguish from NumPy binary files and pickles.\u001b[39;00m\n",
      "\u001b[0;31mFileNotFoundError\u001b[0m: [Errno 2] No such file or directory: './subj_hadm_process/pancan_subj.npy'"
     ]
    }
   ],
   "source": [
    "subj_y = np.load(\"./subj_hadm_process/pancan_subj.npy\")\n",
    "print(len(subj_y), subj_y[3])\n",
    "subj_n = np.load(\"./subj_hadm_process/safe_subj.npy\")\n",
    "print(len(subj_n), subj_n[3])\n",
    "with open('./subj_hadm_process/hadms.json', 'r') as f:\n",
    "    json_data = json.load(f)\n",
    "json_data = {int(k): int(v) for k, v in json_data.items()}\n",
    "print(len(json_data))"
   ]
  },
  {
   "cell_type": "code",
   "execution_count": 29,
   "id": "27bb607c",
   "metadata": {},
   "outputs": [
    {
     "name": "stdout",
     "output_type": "stream",
     "text": [
      "825\n"
     ]
    }
   ],
   "source": [
    "valid_hadms = []\n",
    "for key in json_data:\n",
    "    valid_hadms.append(json_data[key])\n",
    "print(len(valid_hadms))"
   ]
  },
  {
   "cell_type": "code",
   "execution_count": 45,
   "id": "dcb73e1d",
   "metadata": {},
   "outputs": [],
   "source": [
    "thresholds = dict()\n",
    "thresholds['procedures_icd'] = 5\n",
    "thresholds['medication_ndc'] = 100\n",
    "thresholds['lab_chart'] = 100"
   ]
  },
  {
   "cell_type": "code",
   "execution_count": 25,
   "id": "fc0087e6",
   "metadata": {},
   "outputs": [],
   "source": [
    "def get_reindexed(df, column, threshold):\n",
    "    mapping = dict()\n",
    "    counts = dict()\n",
    "    for i in range(len(df)):\n",
    "        if(df[column][i] not in counts):\n",
    "            counts[df[column][i]] = 0\n",
    "        else:\n",
    "            counts[df[column][i]] +=1\n",
    "    for i in range(len(df)):\n",
    "        if((df[column][i] not in mapping) and (counts[df[column][i]]>=threshold)):\n",
    "            mapping[df[column][i]] = len(mapping)\n",
    "    counts = dict(sorted(counts.items(), key=lambda item: item[1]))\n",
    "    print(\"CURRENT LENGTH IS:\", len(mapping))\n",
    "    print(\"TOTAL LENGTH WOULD HAVE BEEN:\", len(counts))\n",
    "    return mapping, counts"
   ]
  },
  {
   "cell_type": "markdown",
   "id": "d94b623a",
   "metadata": {},
   "source": [
    "## PATIENTS"
   ]
  },
  {
   "cell_type": "code",
   "execution_count": 26,
   "id": "7250802d",
   "metadata": {},
   "outputs": [
    {
     "name": "stdout",
     "output_type": "stream",
     "text": [
      "825\n"
     ]
    },
    {
     "data": {
      "text/html": [
       "<div>\n",
       "<style scoped>\n",
       "    .dataframe tbody tr th:only-of-type {\n",
       "        vertical-align: middle;\n",
       "    }\n",
       "\n",
       "    .dataframe tbody tr th {\n",
       "        vertical-align: top;\n",
       "    }\n",
       "\n",
       "    .dataframe thead th {\n",
       "        text-align: right;\n",
       "    }\n",
       "</style>\n",
       "<table border=\"1\" class=\"dataframe\">\n",
       "  <thead>\n",
       "    <tr style=\"text-align: right;\">\n",
       "      <th></th>\n",
       "      <th>SUBJECT_ID</th>\n",
       "      <th>GENDER</th>\n",
       "      <th>PANCAN</th>\n",
       "    </tr>\n",
       "  </thead>\n",
       "  <tbody>\n",
       "    <tr>\n",
       "      <th>0</th>\n",
       "      <td>10006029</td>\n",
       "      <td>0</td>\n",
       "      <td>1</td>\n",
       "    </tr>\n",
       "    <tr>\n",
       "      <th>1</th>\n",
       "      <td>10025862</td>\n",
       "      <td>1</td>\n",
       "      <td>1</td>\n",
       "    </tr>\n",
       "    <tr>\n",
       "      <th>2</th>\n",
       "      <td>10038794</td>\n",
       "      <td>1</td>\n",
       "      <td>0</td>\n",
       "    </tr>\n",
       "    <tr>\n",
       "      <th>3</th>\n",
       "      <td>10107382</td>\n",
       "      <td>0</td>\n",
       "      <td>0</td>\n",
       "    </tr>\n",
       "    <tr>\n",
       "      <th>4</th>\n",
       "      <td>10109413</td>\n",
       "      <td>1</td>\n",
       "      <td>1</td>\n",
       "    </tr>\n",
       "  </tbody>\n",
       "</table>\n",
       "</div>"
      ],
      "text/plain": [
       "   SUBJECT_ID  GENDER  PANCAN\n",
       "0    10006029       0       1\n",
       "1    10025862       1       1\n",
       "2    10038794       1       0\n",
       "3    10107382       0       0\n",
       "4    10109413       1       1"
      ]
     },
     "execution_count": 26,
     "metadata": {},
     "output_type": "execute_result"
    }
   ],
   "source": [
    "patient_df = pd.read_csv(\"../../../../mimic-iv-2.2/hosp/patients.csv\").drop(['anchor_age', 'anchor_year', 'anchor_year_group', 'dod'], axis=1)\n",
    "gender_mapping = {'M': 0, 'F': 1}\n",
    "patient_df['GENDER'] = patient_df['gender'].map(gender_mapping)\n",
    "\n",
    "label = []\n",
    "for i in range(len(patient_df)):\n",
    "    subjid = patient_df[\"subject_id\"][i]\n",
    "    if(subjid in subj_y):\n",
    "        label.append(1)\n",
    "    elif(subjid in subj_n):\n",
    "        label.append(0)\n",
    "    else:\n",
    "        label.append(2)\n",
    "        \n",
    "patient_df['PANCAN'] = label  \n",
    "patient_df = patient_df[patient_df['PANCAN'] != 2]\n",
    "\n",
    "patient_df = patient_df.drop(\"gender\", axis=1).reset_index(drop=True)\n",
    "patient_df.rename(columns={'subject_id': 'SUBJECT_ID'}, inplace=True)\n",
    "\n",
    "print(len(patient_df))\n",
    "patient_df.head()"
   ]
  },
  {
   "cell_type": "markdown",
   "id": "3009f568",
   "metadata": {},
   "source": [
    "## PROCEDURES"
   ]
  },
  {
   "cell_type": "code",
   "execution_count": 34,
   "id": "b2ac74fd",
   "metadata": {},
   "outputs": [
    {
     "name": "stdout",
     "output_type": "stream",
     "text": [
      "669186\n",
      "1499\n"
     ]
    },
    {
     "data": {
      "text/html": [
       "<div>\n",
       "<style scoped>\n",
       "    .dataframe tbody tr th:only-of-type {\n",
       "        vertical-align: middle;\n",
       "    }\n",
       "\n",
       "    .dataframe tbody tr th {\n",
       "        vertical-align: top;\n",
       "    }\n",
       "\n",
       "    .dataframe thead th {\n",
       "        text-align: right;\n",
       "    }\n",
       "</style>\n",
       "<table border=\"1\" class=\"dataframe\">\n",
       "  <thead>\n",
       "    <tr style=\"text-align: right;\">\n",
       "      <th></th>\n",
       "      <th>SUBJECT_ID</th>\n",
       "      <th>ICD_CODE</th>\n",
       "    </tr>\n",
       "  </thead>\n",
       "  <tbody>\n",
       "    <tr>\n",
       "      <th>0</th>\n",
       "      <td>10006029</td>\n",
       "      <td>0DH63UZ_10</td>\n",
       "    </tr>\n",
       "    <tr>\n",
       "      <th>1</th>\n",
       "      <td>10038794</td>\n",
       "      <td>741_9</td>\n",
       "    </tr>\n",
       "    <tr>\n",
       "      <th>2</th>\n",
       "      <td>10038794</td>\n",
       "      <td>7561_9</td>\n",
       "    </tr>\n",
       "    <tr>\n",
       "      <th>3</th>\n",
       "      <td>10109413</td>\n",
       "      <td>5011_9</td>\n",
       "    </tr>\n",
       "    <tr>\n",
       "      <th>4</th>\n",
       "      <td>10116409</td>\n",
       "      <td>3E0T3TZ_10</td>\n",
       "    </tr>\n",
       "  </tbody>\n",
       "</table>\n",
       "</div>"
      ],
      "text/plain": [
       "   SUBJECT_ID    ICD_CODE\n",
       "0    10006029  0DH63UZ_10\n",
       "1    10038794       741_9\n",
       "2    10038794      7561_9\n",
       "3    10109413      5011_9\n",
       "4    10116409  3E0T3TZ_10"
      ]
     },
     "execution_count": 34,
     "metadata": {},
     "output_type": "execute_result"
    }
   ],
   "source": [
    "procedure_df = pd.read_csv(\"../../../../mimic-iv-2.2/hosp/procedures_icd.csv\")\n",
    "procedure_df['ICD_CODE'] = procedure_df['icd_code'] + '_' + procedure_df['icd_version'].astype('str')\n",
    "procedure_df = procedure_df.drop(['seq_num', 'chartdate', 'icd_code', 'icd_version'], axis=1)\n",
    "procedure_df.rename(columns={'subject_id': 'SUBJECT_ID'}, inplace=True)\n",
    "print(len(procedure_df))\n",
    "procedure_df = procedure_df[procedure_df['hadm_id'].isin(valid_hadms)].reset_index(drop=True)\n",
    "procedure_df = procedure_df.drop(['hadm_id'], axis=1)\n",
    "print(len(procedure_df))\n",
    "procedure_df.head()"
   ]
  },
  {
   "cell_type": "code",
   "execution_count": 35,
   "id": "5173ac4f",
   "metadata": {},
   "outputs": [
    {
     "name": "stdout",
     "output_type": "stream",
     "text": [
      "CURRENT LENGTH IS: 55\n",
      "TOTAL LENGTH WOULD HAVE BEEN: 623\n",
      "{'741_9': 0, '3897_9': 1, '527_9': 2, '5122_9': 3, '0BH17EZ_10': 4, '5A1955Z_10': 5, '5A1221Z_10': 6, '3893_9': 7, '966_9': 8, '4513_9': 9, '0F798DZ_10': 10, 'BF10YZZ_10': 11, '9671_9': 12, '0FC98ZZ_10': 13, '8952_9': 14, '8938_9': 15, '0040_9': 16, '3404_9': 17, '5491_9': 18, '5187_9': 19, '5185_9': 20, '0W9G3ZZ_10': 21, '0W9G3ZX_10': 22, '3E0G76Z_10': 23, '0F9530Z_10': 24, '0331_9': 25, '0W9B30Z_10': 26, '0DJ08ZZ_10': 27, '8874_9': 28, '0W9G30Z_10': 29, 'B211YZZ_10': 30, '3891_9': 31, '5110_9': 32, '0FBG0ZZ_10': 33, '02HV33Z_10': 34, '9604_9': 35, '9672_9': 36, '8751_9': 37, '5198_9': 38, '7359_9': 39, '9705_9': 40, '734_9': 41, '0F9930Z_10': 42, '0F2BX0Z_10': 43, '8856_9': 44, '7569_9': 45, '7309_9': 46, '5A1945Z_10': 47, '3E04305_10': 48, '3995_9': 49, '3961_9': 50, '5459_9': 51, '0066_9': 52, '3E0436Z_10': 53, '0FPB8DZ_10': 54}\n"
     ]
    }
   ],
   "source": [
    "icd_codes_mapping, icd_codes_counts = get_reindexed(procedure_df, 'ICD_CODE', thresholds['procedures_icd'])\n",
    "print(icd_codes_mapping)"
   ]
  },
  {
   "cell_type": "code",
   "execution_count": 36,
   "id": "bd7acd78",
   "metadata": {},
   "outputs": [
    {
     "name": "stdout",
     "output_type": "stream",
     "text": [
      "499\n"
     ]
    },
    {
     "data": {
      "text/html": [
       "<div>\n",
       "<style scoped>\n",
       "    .dataframe tbody tr th:only-of-type {\n",
       "        vertical-align: middle;\n",
       "    }\n",
       "\n",
       "    .dataframe tbody tr th {\n",
       "        vertical-align: top;\n",
       "    }\n",
       "\n",
       "    .dataframe thead th {\n",
       "        text-align: right;\n",
       "    }\n",
       "</style>\n",
       "<table border=\"1\" class=\"dataframe\">\n",
       "  <thead>\n",
       "    <tr style=\"text-align: right;\">\n",
       "      <th></th>\n",
       "      <th>SUBJECT_ID</th>\n",
       "      <th>ICD_CODE</th>\n",
       "      <th>ICD_FEATURES</th>\n",
       "    </tr>\n",
       "  </thead>\n",
       "  <tbody>\n",
       "    <tr>\n",
       "      <th>0</th>\n",
       "      <td>10006029</td>\n",
       "      <td>[0DH63UZ_10]</td>\n",
       "      <td>[0, 0, 0, 0, 0, 0, 0, 0, 0, 0, 0, 0, 0, 0, 0, ...</td>\n",
       "    </tr>\n",
       "    <tr>\n",
       "      <th>1</th>\n",
       "      <td>10038794</td>\n",
       "      <td>[741_9, 7561_9]</td>\n",
       "      <td>[1, 0, 0, 0, 0, 0, 0, 0, 0, 0, 0, 0, 0, 0, 0, ...</td>\n",
       "    </tr>\n",
       "    <tr>\n",
       "      <th>2</th>\n",
       "      <td>10109413</td>\n",
       "      <td>[5011_9]</td>\n",
       "      <td>[0, 0, 0, 0, 0, 0, 0, 0, 0, 0, 0, 0, 0, 0, 0, ...</td>\n",
       "    </tr>\n",
       "    <tr>\n",
       "      <th>3</th>\n",
       "      <td>10116409</td>\n",
       "      <td>[3E0T3TZ_10, BD47ZZZ_10]</td>\n",
       "      <td>[0, 0, 0, 0, 0, 0, 0, 0, 0, 0, 0, 0, 0, 0, 0, ...</td>\n",
       "    </tr>\n",
       "    <tr>\n",
       "      <th>4</th>\n",
       "      <td>10138440</td>\n",
       "      <td>[047T3ZZ_10, 047R3ZZ_10, B41FYZZ_10]</td>\n",
       "      <td>[0, 0, 0, 0, 0, 0, 0, 0, 0, 0, 0, 0, 0, 0, 0, ...</td>\n",
       "    </tr>\n",
       "  </tbody>\n",
       "</table>\n",
       "</div>"
      ],
      "text/plain": [
       "   SUBJECT_ID                              ICD_CODE  \\\n",
       "0    10006029                          [0DH63UZ_10]   \n",
       "1    10038794                       [741_9, 7561_9]   \n",
       "2    10109413                              [5011_9]   \n",
       "3    10116409              [3E0T3TZ_10, BD47ZZZ_10]   \n",
       "4    10138440  [047T3ZZ_10, 047R3ZZ_10, B41FYZZ_10]   \n",
       "\n",
       "                                        ICD_FEATURES  \n",
       "0  [0, 0, 0, 0, 0, 0, 0, 0, 0, 0, 0, 0, 0, 0, 0, ...  \n",
       "1  [1, 0, 0, 0, 0, 0, 0, 0, 0, 0, 0, 0, 0, 0, 0, ...  \n",
       "2  [0, 0, 0, 0, 0, 0, 0, 0, 0, 0, 0, 0, 0, 0, 0, ...  \n",
       "3  [0, 0, 0, 0, 0, 0, 0, 0, 0, 0, 0, 0, 0, 0, 0, ...  \n",
       "4  [0, 0, 0, 0, 0, 0, 0, 0, 0, 0, 0, 0, 0, 0, 0, ...  "
      ]
     },
     "execution_count": 36,
     "metadata": {},
     "output_type": "execute_result"
    }
   ],
   "source": [
    "procedure_grouped_df = procedure_df.groupby('SUBJECT_ID')['ICD_CODE'].agg(list).reset_index()\n",
    "procedure_grouped_df['ICD_FEATURES'] = None\n",
    "\n",
    "for i in range(len(procedure_grouped_df)):\n",
    "    feature_vec = np.zeros(len(icd_codes_mapping), dtype=int)\n",
    "    codes = list(set(procedure_grouped_df[\"ICD_CODE\"][i]))\n",
    "    for code in codes:\n",
    "        if(icd_codes_counts[code]>=thresholds['procedures_icd']):\n",
    "            index = icd_codes_mapping[code]\n",
    "            feature_vec[index] = 1\n",
    "    procedure_grouped_df['ICD_FEATURES'][i] = list(feature_vec)\n",
    "print(len(procedure_grouped_df))\n",
    "procedure_grouped_df.head()"
   ]
  },
  {
   "cell_type": "code",
   "execution_count": 39,
   "id": "4e417987",
   "metadata": {},
   "outputs": [
    {
     "name": "stdout",
     "output_type": "stream",
     "text": [
      "[6]\n",
      "[6]\n",
      "True\n"
     ]
    }
   ],
   "source": [
    "index = 9\n",
    "lista = []\n",
    "listb = []\n",
    "for i in range(len(procedure_grouped_df['ICD_FEATURES'][index])):\n",
    "    if(procedure_grouped_df['ICD_FEATURES'][index][i]==1):\n",
    "        lista.append(i)\n",
    "\n",
    "for key in procedure_grouped_df['ICD_CODE'][index]:\n",
    "    if(key in icd_codes_mapping):\n",
    "        listb.append(icd_codes_mapping[key])\n",
    "        \n",
    "print(lista)\n",
    "print(listb)\n",
    "print(set(lista)==set(listb))"
   ]
  },
  {
   "cell_type": "markdown",
   "id": "2f4e54d1",
   "metadata": {},
   "source": [
    "## MEDICATION"
   ]
  },
  {
   "cell_type": "code",
   "execution_count": 40,
   "id": "fa518f44",
   "metadata": {},
   "outputs": [
    {
     "data": {
      "text/html": [
       "<div>\n",
       "<style scoped>\n",
       "    .dataframe tbody tr th:only-of-type {\n",
       "        vertical-align: middle;\n",
       "    }\n",
       "\n",
       "    .dataframe tbody tr th {\n",
       "        vertical-align: top;\n",
       "    }\n",
       "\n",
       "    .dataframe thead th {\n",
       "        text-align: right;\n",
       "    }\n",
       "</style>\n",
       "<table border=\"1\" class=\"dataframe\">\n",
       "  <thead>\n",
       "    <tr style=\"text-align: right;\">\n",
       "      <th></th>\n",
       "      <th>subject_id</th>\n",
       "      <th>hadm_id</th>\n",
       "      <th>ndc</th>\n",
       "    </tr>\n",
       "  </thead>\n",
       "  <tbody>\n",
       "    <tr>\n",
       "      <th>0</th>\n",
       "      <td>10000032</td>\n",
       "      <td>22595853</td>\n",
       "      <td>9.041989e+08</td>\n",
       "    </tr>\n",
       "    <tr>\n",
       "      <th>1</th>\n",
       "      <td>10000032</td>\n",
       "      <td>22595853</td>\n",
       "      <td>0.000000e+00</td>\n",
       "    </tr>\n",
       "    <tr>\n",
       "      <th>2</th>\n",
       "      <td>10000032</td>\n",
       "      <td>22595853</td>\n",
       "      <td>5.107901e+10</td>\n",
       "    </tr>\n",
       "    <tr>\n",
       "      <th>3</th>\n",
       "      <td>10000032</td>\n",
       "      <td>22595853</td>\n",
       "      <td>6.022761e+06</td>\n",
       "    </tr>\n",
       "    <tr>\n",
       "      <th>4</th>\n",
       "      <td>10000032</td>\n",
       "      <td>22595853</td>\n",
       "      <td>6.332303e+10</td>\n",
       "    </tr>\n",
       "  </tbody>\n",
       "</table>\n",
       "</div>"
      ],
      "text/plain": [
       "   subject_id   hadm_id           ndc\n",
       "0    10000032  22595853  9.041989e+08\n",
       "1    10000032  22595853  0.000000e+00\n",
       "2    10000032  22595853  5.107901e+10\n",
       "3    10000032  22595853  6.022761e+06\n",
       "4    10000032  22595853  6.332303e+10"
      ]
     },
     "execution_count": 40,
     "metadata": {},
     "output_type": "execute_result"
    }
   ],
   "source": [
    "med_df = pd.read_csv(\"../../../../mimic-iv-2.2/hosp/prescriptions.csv\").drop(['pharmacy_id', 'poe_id', 'poe_seq',\n",
    "       'order_provider_id', 'starttime', 'stoptime', 'drug_type', 'drug',\n",
    "       'formulary_drug_cd', 'gsn', 'prod_strength', 'form_rx',\n",
    "       'dose_val_rx', 'dose_unit_rx', 'form_val_disp', 'form_unit_disp',\n",
    "       'doses_per_24_hrs', 'route'], axis=1)\n",
    "med_df.head()"
   ]
  },
  {
   "cell_type": "code",
   "execution_count": 41,
   "id": "552de874",
   "metadata": {},
   "outputs": [
    {
     "name": "stdout",
     "output_type": "stream",
     "text": [
      "15416708\n",
      "38281\n"
     ]
    },
    {
     "data": {
      "text/html": [
       "<div>\n",
       "<style scoped>\n",
       "    .dataframe tbody tr th:only-of-type {\n",
       "        vertical-align: middle;\n",
       "    }\n",
       "\n",
       "    .dataframe tbody tr th {\n",
       "        vertical-align: top;\n",
       "    }\n",
       "\n",
       "    .dataframe thead th {\n",
       "        text-align: right;\n",
       "    }\n",
       "</style>\n",
       "<table border=\"1\" class=\"dataframe\">\n",
       "  <thead>\n",
       "    <tr style=\"text-align: right;\">\n",
       "      <th></th>\n",
       "      <th>SUBJECT_ID</th>\n",
       "      <th>NDC</th>\n",
       "    </tr>\n",
       "  </thead>\n",
       "  <tbody>\n",
       "    <tr>\n",
       "      <th>0</th>\n",
       "      <td>10006029</td>\n",
       "      <td>2751001</td>\n",
       "    </tr>\n",
       "    <tr>\n",
       "      <th>1</th>\n",
       "      <td>10006029</td>\n",
       "      <td>55111026281</td>\n",
       "    </tr>\n",
       "    <tr>\n",
       "      <th>2</th>\n",
       "      <td>10006029</td>\n",
       "      <td>54817525</td>\n",
       "    </tr>\n",
       "    <tr>\n",
       "      <th>3</th>\n",
       "      <td>10006029</td>\n",
       "      <td>60258000601</td>\n",
       "    </tr>\n",
       "    <tr>\n",
       "      <th>4</th>\n",
       "      <td>10006029</td>\n",
       "      <td>8290306510</td>\n",
       "    </tr>\n",
       "  </tbody>\n",
       "</table>\n",
       "</div>"
      ],
      "text/plain": [
       "   SUBJECT_ID          NDC\n",
       "0    10006029      2751001\n",
       "1    10006029  55111026281\n",
       "2    10006029     54817525\n",
       "3    10006029  60258000601\n",
       "4    10006029   8290306510"
      ]
     },
     "execution_count": 41,
     "metadata": {},
     "output_type": "execute_result"
    }
   ],
   "source": [
    "medication_df = med_df.copy()\n",
    "medication_df = medication_df.fillna(0).astype(int)\n",
    "medication_df.rename(columns={'subject_id': 'SUBJECT_ID'}, inplace=True)\n",
    "medication_df.rename(columns={'ndc': 'NDC'}, inplace=True)\n",
    "print(len(medication_df))\n",
    "\n",
    "medication_df = medication_df[medication_df['hadm_id'].isin(valid_hadms)].reset_index(drop=True)\n",
    "medication_df = medication_df.drop(['hadm_id'], axis=1)\n",
    "\n",
    "print(len(medication_df))\n",
    "medication_df.head()"
   ]
  },
  {
   "cell_type": "code",
   "execution_count": 46,
   "id": "4cadab8d",
   "metadata": {},
   "outputs": [
    {
     "name": "stdout",
     "output_type": "stream",
     "text": [
      "CURRENT LENGTH IS: 61\n",
      "TOTAL LENGTH WOULD HAVE BEEN: 2081\n",
      "{2751001: 0, 60258000601: 1, 338011704: 2, 0: 3, 88222033: 4, 338004904: 5, 38396055018: 6, 63323026201: 7, 904053061: 8, 409198530: 9, 904568461: 10, 409128331: 11, 409490234: 12, 338355248: 13, 32121201: 14, 904645561: 15, 43825010201: 16, 409672923: 17, 781305714: 18, 574705050: 19, 904224461: 20, 66553000401: 21, 904404073: 22, 904516561: 23, 245004101: 24, 406055262: 25, 264958720: 26, 51079000220: 27, 409665305: 28, 11523726808: 29, 409672924: 30, 64253033335: 31, 641607825: 32, 904652261: 33, 409189001: 34, 904198861: 35, 338055318: 36, 60505068104: 37, 55390000401: 38, 51079025520: 39, 8290036005: 40, 66758016013: 41, 338001702: 42, 338070948: 43, 338004902: 44, 536338101: 45, 2821501: 46, 456066270: 47, 338008504: 48, 8092355: 49, 206886202: 50, 338070341: 51, 338004938: 52, 409131230: 53, 904198261: 54, 338004903: 55, 61553005148: 56, 517570425: 57, 338001704: 58, 409610204: 59, 2831501: 60}\n"
     ]
    }
   ],
   "source": [
    "ndc_mapping, ndc_counts = get_reindexed(medication_df, 'NDC', thresholds['medication_ndc'])\n",
    "print(ndc_mapping)"
   ]
  },
  {
   "cell_type": "code",
   "execution_count": 47,
   "id": "38ce263a",
   "metadata": {},
   "outputs": [
    {
     "name": "stdout",
     "output_type": "stream",
     "text": [
      "754\n"
     ]
    },
    {
     "data": {
      "text/html": [
       "<div>\n",
       "<style scoped>\n",
       "    .dataframe tbody tr th:only-of-type {\n",
       "        vertical-align: middle;\n",
       "    }\n",
       "\n",
       "    .dataframe tbody tr th {\n",
       "        vertical-align: top;\n",
       "    }\n",
       "\n",
       "    .dataframe thead th {\n",
       "        text-align: right;\n",
       "    }\n",
       "</style>\n",
       "<table border=\"1\" class=\"dataframe\">\n",
       "  <thead>\n",
       "    <tr style=\"text-align: right;\">\n",
       "      <th></th>\n",
       "      <th>SUBJECT_ID</th>\n",
       "      <th>NDC</th>\n",
       "      <th>NDC_FEATURES</th>\n",
       "    </tr>\n",
       "  </thead>\n",
       "  <tbody>\n",
       "    <tr>\n",
       "      <th>0</th>\n",
       "      <td>10006029</td>\n",
       "      <td>[2751001, 55111026281, 54817525, 60258000601, ...</td>\n",
       "      <td>[1, 1, 1, 1, 1, 1, 1, 1, 1, 1, 1, 1, 1, 0, 0, ...</td>\n",
       "    </tr>\n",
       "    <tr>\n",
       "      <th>1</th>\n",
       "      <td>10025862</td>\n",
       "      <td>[338011704, 0, 338355248, 8290306424, 68084070...</td>\n",
       "      <td>[0, 0, 1, 1, 0, 0, 0, 0, 0, 0, 1, 0, 0, 1, 1, ...</td>\n",
       "    </tr>\n",
       "    <tr>\n",
       "      <th>2</th>\n",
       "      <td>10038794</td>\n",
       "      <td>[409121201, 64455099394, 66689036430, 18218108...</td>\n",
       "      <td>[0, 0, 0, 0, 0, 0, 0, 0, 0, 0, 0, 0, 0, 0, 0, ...</td>\n",
       "    </tr>\n",
       "    <tr>\n",
       "      <th>3</th>\n",
       "      <td>10107382</td>\n",
       "      <td>[49884002901, 63653117103, 904404073, 40603576...</td>\n",
       "      <td>[0, 0, 0, 1, 0, 0, 0, 1, 0, 0, 0, 0, 0, 0, 0, ...</td>\n",
       "    </tr>\n",
       "    <tr>\n",
       "      <th>4</th>\n",
       "      <td>10109413</td>\n",
       "      <td>[64980010401, 51079052420, 0, 245004101, 90405...</td>\n",
       "      <td>[0, 0, 0, 1, 0, 1, 0, 1, 1, 0, 0, 0, 0, 0, 0, ...</td>\n",
       "    </tr>\n",
       "  </tbody>\n",
       "</table>\n",
       "</div>"
      ],
      "text/plain": [
       "   SUBJECT_ID                                                NDC  \\\n",
       "0    10006029  [2751001, 55111026281, 54817525, 60258000601, ...   \n",
       "1    10025862  [338011704, 0, 338355248, 8290306424, 68084070...   \n",
       "2    10038794  [409121201, 64455099394, 66689036430, 18218108...   \n",
       "3    10107382  [49884002901, 63653117103, 904404073, 40603576...   \n",
       "4    10109413  [64980010401, 51079052420, 0, 245004101, 90405...   \n",
       "\n",
       "                                        NDC_FEATURES  \n",
       "0  [1, 1, 1, 1, 1, 1, 1, 1, 1, 1, 1, 1, 1, 0, 0, ...  \n",
       "1  [0, 0, 1, 1, 0, 0, 0, 0, 0, 0, 1, 0, 0, 1, 1, ...  \n",
       "2  [0, 0, 0, 0, 0, 0, 0, 0, 0, 0, 0, 0, 0, 0, 0, ...  \n",
       "3  [0, 0, 0, 1, 0, 0, 0, 1, 0, 0, 0, 0, 0, 0, 0, ...  \n",
       "4  [0, 0, 0, 1, 0, 1, 0, 1, 1, 0, 0, 0, 0, 0, 0, ...  "
      ]
     },
     "execution_count": 47,
     "metadata": {},
     "output_type": "execute_result"
    }
   ],
   "source": [
    "med_grouped_df = medication_df.groupby('SUBJECT_ID')['NDC'].agg(list).reset_index()\n",
    "med_grouped_df['NDC_FEATURES'] = None\n",
    "\n",
    "for i in range(len(med_grouped_df)):\n",
    "    feature_vec = np.zeros(len(ndc_mapping), dtype=int)\n",
    "    codes = list(set(med_grouped_df[\"NDC\"][i]))\n",
    "    for code in codes:\n",
    "        if(ndc_counts[code]>=thresholds['medication_ndc']):\n",
    "            index = ndc_mapping[code]\n",
    "            feature_vec[index] = 1\n",
    "    med_grouped_df['NDC_FEATURES'][i] = list(feature_vec)\n",
    "print(len(med_grouped_df))\n",
    "med_grouped_df.head()"
   ]
  },
  {
   "cell_type": "code",
   "execution_count": 48,
   "id": "45b44201",
   "metadata": {},
   "outputs": [
    {
     "name": "stdout",
     "output_type": "stream",
     "text": [
      "[18, 19, 20, 21]\n",
      "[18, 19, 20, 21]\n",
      "True\n"
     ]
    }
   ],
   "source": [
    "index = 2\n",
    "lista = []\n",
    "listb = []\n",
    "for i in range(len(med_grouped_df['NDC_FEATURES'][index])):\n",
    "    if(med_grouped_df['NDC_FEATURES'][index][i]==1):\n",
    "        lista.append(i)\n",
    "\n",
    "for key in med_grouped_df['NDC'][index]:\n",
    "    if(key in ndc_mapping):\n",
    "        listb.append(ndc_mapping[key])\n",
    "        \n",
    "print(lista)\n",
    "print(listb)\n",
    "print(set(lista)==set(listb))"
   ]
  },
  {
   "cell_type": "markdown",
   "id": "f13efb10",
   "metadata": {},
   "source": [
    "## LAB"
   ]
  },
  {
   "cell_type": "code",
   "execution_count": 78,
   "id": "2de27ac8",
   "metadata": {},
   "outputs": [
    {
     "name": "stdout",
     "output_type": "stream",
     "text": [
      "Reading Chunk 1\n",
      "104217\n",
      "Reading Chunk 2\n",
      "217932\n",
      "Reading Chunk 3\n",
      "358823\n",
      "Reading Chunk 4\n",
      "452866\n",
      "Reading Chunk 5\n",
      "597572\n",
      "Reading Chunk 6\n",
      "703090\n",
      "Reading Chunk 7\n",
      "792607\n",
      "Reading Chunk 8\n",
      "911729\n",
      "Reading Chunk 9\n",
      "1043601\n",
      "Reading Chunk 10\n",
      "1172725\n",
      "Reading Chunk 11\n",
      "1265264\n",
      "Reading Chunk 12\n",
      "1386686\n",
      "Reading Chunk 13\n",
      "1513681\n",
      "Reading Chunk 14\n",
      "1634936\n",
      "Reading Chunk 15\n",
      "1797965\n",
      "Reading Chunk 16\n",
      "1916693\n",
      "Reading Chunk 17\n",
      "2028970\n",
      "Reading Chunk 18\n",
      "2156685\n",
      "Reading Chunk 19\n",
      "2304349\n",
      "Reading Chunk 20\n",
      "2446083\n",
      "Reading Chunk 21\n",
      "2559053\n",
      "Reading Chunk 22\n",
      "2658386\n",
      "Reading Chunk 23\n",
      "2773917\n",
      "Reading Chunk 24\n",
      "2862584\n",
      "Finished processing the CSV file.\n"
     ]
    }
   ],
   "source": [
    "large_csv_path = \"../../../../mimic-iv-2.2/hosp/labevents.csv\"\n",
    "chunk_size = 5000000\n",
    "reader = pd.read_csv(large_csv_path, chunksize=chunk_size)\n",
    "chunk = next(reader, None)\n",
    "chunk = chunk.drop(['labevent_id', 'specimen_id',\n",
    "       'order_provider_id', 'charttime', 'storetime', 'value',\n",
    "       'valueuom', 'ref_range_lower', 'ref_range_upper', 'flag', 'priority',\n",
    "       'comments'], axis=1)\n",
    "labevents_df = pd.DataFrame(columns=chunk.columns)\n",
    "reader = pd.read_csv(large_csv_path, chunksize=chunk_size)\n",
    "i = 0\n",
    "while True:\n",
    "    chunk = next(reader, None)\n",
    "    if chunk is not None:\n",
    "        print(f'Reading Chunk {i + 1}')\n",
    "        chunk = chunk.drop(['labevent_id', 'hadm_id', 'specimen_id',\n",
    "       'order_provider_id', 'charttime', 'storetime', 'value',\n",
    "       'valueuom', 'ref_range_lower', 'ref_range_upper', 'flag', 'priority',\n",
    "       'comments'], axis=1)[chunk['subject_id'].isin(subj_y) | chunk['subject_id'].isin(subj_n)].reset_index(drop=True)\n",
    "        labevents_df = labevents_df.append(chunk, ignore_index=True)\n",
    "        print(len(labevents_df))\n",
    "    else:\n",
    "        print('Finished processing the CSV file.')\n",
    "        break\n",
    "    i +=1\n",
    "labevents_df.to_csv(\"./raw/labevents_final.csv\")"
   ]
  },
  {
   "cell_type": "code",
   "execution_count": 15,
   "id": "1492aac2",
   "metadata": {},
   "outputs": [
    {
     "data": {
      "text/html": [
       "<div>\n",
       "<style scoped>\n",
       "    .dataframe tbody tr th:only-of-type {\n",
       "        vertical-align: middle;\n",
       "    }\n",
       "\n",
       "    .dataframe tbody tr th {\n",
       "        vertical-align: top;\n",
       "    }\n",
       "\n",
       "    .dataframe thead th {\n",
       "        text-align: right;\n",
       "    }\n",
       "</style>\n",
       "<table border=\"1\" class=\"dataframe\">\n",
       "  <thead>\n",
       "    <tr style=\"text-align: right;\">\n",
       "      <th></th>\n",
       "      <th>subject_id</th>\n",
       "      <th>itemid</th>\n",
       "      <th>valuenum</th>\n",
       "    </tr>\n",
       "  </thead>\n",
       "  <tbody>\n",
       "    <tr>\n",
       "      <th>0</th>\n",
       "      <td>10002760</td>\n",
       "      <td>50861</td>\n",
       "      <td>16.0</td>\n",
       "    </tr>\n",
       "    <tr>\n",
       "      <th>1</th>\n",
       "      <td>10002760</td>\n",
       "      <td>50862</td>\n",
       "      <td>4.2</td>\n",
       "    </tr>\n",
       "    <tr>\n",
       "      <th>2</th>\n",
       "      <td>10002760</td>\n",
       "      <td>50863</td>\n",
       "      <td>48.0</td>\n",
       "    </tr>\n",
       "    <tr>\n",
       "      <th>3</th>\n",
       "      <td>10002760</td>\n",
       "      <td>50867</td>\n",
       "      <td>63.0</td>\n",
       "    </tr>\n",
       "    <tr>\n",
       "      <th>4</th>\n",
       "      <td>10002760</td>\n",
       "      <td>50868</td>\n",
       "      <td>11.0</td>\n",
       "    </tr>\n",
       "  </tbody>\n",
       "</table>\n",
       "</div>"
      ],
      "text/plain": [
       "   subject_id  itemid  valuenum\n",
       "0    10002760   50861      16.0\n",
       "1    10002760   50862       4.2\n",
       "2    10002760   50863      48.0\n",
       "3    10002760   50867      63.0\n",
       "4    10002760   50868      11.0"
      ]
     },
     "execution_count": 15,
     "metadata": {},
     "output_type": "execute_result"
    }
   ],
   "source": [
    "labevents_df = pd.read_csv(\"../../raw/labevents_final.csv\").drop(\"Unnamed: 0\", axis=1)\n",
    "labevents_df.head()"
   ]
  },
  {
   "cell_type": "code",
   "execution_count": 16,
   "id": "1ed3bf21",
   "metadata": {},
   "outputs": [
    {
     "name": "stdout",
     "output_type": "stream",
     "text": [
      "3166\n"
     ]
    },
    {
     "data": {
      "text/html": [
       "<div>\n",
       "<style scoped>\n",
       "    .dataframe tbody tr th:only-of-type {\n",
       "        vertical-align: middle;\n",
       "    }\n",
       "\n",
       "    .dataframe tbody tr th {\n",
       "        vertical-align: top;\n",
       "    }\n",
       "\n",
       "    .dataframe thead th {\n",
       "        text-align: right;\n",
       "    }\n",
       "</style>\n",
       "<table border=\"1\" class=\"dataframe\">\n",
       "  <thead>\n",
       "    <tr style=\"text-align: right;\">\n",
       "      <th></th>\n",
       "      <th>SUBJECT_ID</th>\n",
       "      <th>CHART_ITEMID</th>\n",
       "      <th>CHART_VALUENUM</th>\n",
       "    </tr>\n",
       "  </thead>\n",
       "  <tbody>\n",
       "    <tr>\n",
       "      <th>0</th>\n",
       "      <td>10002760</td>\n",
       "      <td>50861</td>\n",
       "      <td>16.0</td>\n",
       "    </tr>\n",
       "    <tr>\n",
       "      <th>1</th>\n",
       "      <td>10002760</td>\n",
       "      <td>50862</td>\n",
       "      <td>4.2</td>\n",
       "    </tr>\n",
       "    <tr>\n",
       "      <th>2</th>\n",
       "      <td>10002760</td>\n",
       "      <td>50863</td>\n",
       "      <td>48.0</td>\n",
       "    </tr>\n",
       "    <tr>\n",
       "      <th>3</th>\n",
       "      <td>10002760</td>\n",
       "      <td>50867</td>\n",
       "      <td>63.0</td>\n",
       "    </tr>\n",
       "    <tr>\n",
       "      <th>4</th>\n",
       "      <td>10002760</td>\n",
       "      <td>50868</td>\n",
       "      <td>11.0</td>\n",
       "    </tr>\n",
       "    <tr>\n",
       "      <th>...</th>\n",
       "      <td>...</td>\n",
       "      <td>...</td>\n",
       "      <td>...</td>\n",
       "    </tr>\n",
       "    <tr>\n",
       "      <th>2862579</th>\n",
       "      <td>19999784</td>\n",
       "      <td>50912</td>\n",
       "      <td>1.0</td>\n",
       "    </tr>\n",
       "    <tr>\n",
       "      <th>2862580</th>\n",
       "      <td>19999784</td>\n",
       "      <td>50934</td>\n",
       "      <td>14.0</td>\n",
       "    </tr>\n",
       "    <tr>\n",
       "      <th>2862581</th>\n",
       "      <td>19999784</td>\n",
       "      <td>50947</td>\n",
       "      <td>1.0</td>\n",
       "    </tr>\n",
       "    <tr>\n",
       "      <th>2862582</th>\n",
       "      <td>19999784</td>\n",
       "      <td>51006</td>\n",
       "      <td>15.0</td>\n",
       "    </tr>\n",
       "    <tr>\n",
       "      <th>2862583</th>\n",
       "      <td>19999784</td>\n",
       "      <td>51678</td>\n",
       "      <td>12.0</td>\n",
       "    </tr>\n",
       "  </tbody>\n",
       "</table>\n",
       "<p>2862584 rows × 3 columns</p>\n",
       "</div>"
      ],
      "text/plain": [
       "         SUBJECT_ID  CHART_ITEMID  CHART_VALUENUM\n",
       "0          10002760         50861            16.0\n",
       "1          10002760         50862             4.2\n",
       "2          10002760         50863            48.0\n",
       "3          10002760         50867            63.0\n",
       "4          10002760         50868            11.0\n",
       "...             ...           ...             ...\n",
       "2862579    19999784         50912             1.0\n",
       "2862580    19999784         50934            14.0\n",
       "2862581    19999784         50947             1.0\n",
       "2862582    19999784         51006            15.0\n",
       "2862583    19999784         51678            12.0\n",
       "\n",
       "[2862584 rows x 3 columns]"
      ]
     },
     "metadata": {},
     "output_type": "display_data"
    }
   ],
   "source": [
    "print(len(set(list(labevents_df['subject_id']))))\n",
    "lab_df = labevents_df.copy()\n",
    "lab_df.rename(columns={'subject_id': 'SUBJECT_ID'}, inplace=True)\n",
    "lab_df.rename(columns={'itemid': 'CHART_ITEMID'}, inplace=True)\n",
    "lab_df.rename(columns={'valuenum': 'CHART_VALUENUM'}, inplace=True)\n",
    "display(lab_df)"
   ]
  },
  {
   "cell_type": "code",
   "execution_count": 17,
   "id": "76babf37",
   "metadata": {},
   "outputs": [
    {
     "name": "stdout",
     "output_type": "stream",
     "text": [
      "CURRENT LENGTH IS: 329\n",
      "TOTAL LENGTH WOULD HAVE BEEN: 785\n"
     ]
    }
   ],
   "source": [
    "chart_mapping, chart_counts = get_reindexed(lab_df, 'CHART_ITEMID', thresholds['lab_chart'])"
   ]
  },
  {
   "cell_type": "code",
   "execution_count": 18,
   "id": "44bf8f21",
   "metadata": {},
   "outputs": [
    {
     "name": "stdout",
     "output_type": "stream",
     "text": [
      "329 329 329\n"
     ]
    }
   ],
   "source": [
    "chart_items = dict()\n",
    "chart_items_mean = dict()\n",
    "chart_items_std = dict()\n",
    "\n",
    "for i in range(len(lab_df)):\n",
    "    itemid = lab_df[\"CHART_ITEMID\"][i]\n",
    "    if(itemid not in chart_mapping):\n",
    "        continue\n",
    "    else:\n",
    "        if(itemid not in chart_items):\n",
    "            chart_items[itemid] = []\n",
    "        chart_items[itemid].append(lab_df[\"CHART_VALUENUM\"][i])\n",
    "        \n",
    "for item in chart_items:\n",
    "    chart_items_mean[item] = np.mean(np.array(chart_items[item]))\n",
    "    chart_items_std[item]  = np.std(np.array(chart_items[item]))\n",
    "    \n",
    "print(len(chart_items), len(chart_items_mean), len(chart_items_std))"
   ]
  },
  {
   "cell_type": "code",
   "execution_count": 19,
   "id": "5e80e8f6",
   "metadata": {},
   "outputs": [
    {
     "name": "stdout",
     "output_type": "stream",
     "text": [
      "2862584\n"
     ]
    },
    {
     "data": {
      "text/html": [
       "<div>\n",
       "<style scoped>\n",
       "    .dataframe tbody tr th:only-of-type {\n",
       "        vertical-align: middle;\n",
       "    }\n",
       "\n",
       "    .dataframe tbody tr th {\n",
       "        vertical-align: top;\n",
       "    }\n",
       "\n",
       "    .dataframe thead th {\n",
       "        text-align: right;\n",
       "    }\n",
       "</style>\n",
       "<table border=\"1\" class=\"dataframe\">\n",
       "  <thead>\n",
       "    <tr style=\"text-align: right;\">\n",
       "      <th></th>\n",
       "      <th>SUBJECT_ID</th>\n",
       "      <th>CHART_ITEMID</th>\n",
       "      <th>CHART_VALUENUM</th>\n",
       "      <th>CHART</th>\n",
       "    </tr>\n",
       "  </thead>\n",
       "  <tbody>\n",
       "    <tr>\n",
       "      <th>0</th>\n",
       "      <td>10002760</td>\n",
       "      <td>50861</td>\n",
       "      <td>16.0</td>\n",
       "      <td>50861:MED</td>\n",
       "    </tr>\n",
       "    <tr>\n",
       "      <th>1</th>\n",
       "      <td>10002760</td>\n",
       "      <td>50862</td>\n",
       "      <td>4.2</td>\n",
       "      <td>50862:MED</td>\n",
       "    </tr>\n",
       "    <tr>\n",
       "      <th>2</th>\n",
       "      <td>10002760</td>\n",
       "      <td>50863</td>\n",
       "      <td>48.0</td>\n",
       "      <td>50863:MED</td>\n",
       "    </tr>\n",
       "    <tr>\n",
       "      <th>3</th>\n",
       "      <td>10002760</td>\n",
       "      <td>50867</td>\n",
       "      <td>63.0</td>\n",
       "      <td>50867:MED</td>\n",
       "    </tr>\n",
       "    <tr>\n",
       "      <th>4</th>\n",
       "      <td>10002760</td>\n",
       "      <td>50868</td>\n",
       "      <td>11.0</td>\n",
       "      <td>50868:MED</td>\n",
       "    </tr>\n",
       "  </tbody>\n",
       "</table>\n",
       "</div>"
      ],
      "text/plain": [
       "   SUBJECT_ID  CHART_ITEMID  CHART_VALUENUM      CHART\n",
       "0    10002760         50861            16.0  50861:MED\n",
       "1    10002760         50862             4.2  50862:MED\n",
       "2    10002760         50863            48.0  50863:MED\n",
       "3    10002760         50867            63.0  50867:MED\n",
       "4    10002760         50868            11.0  50868:MED"
      ]
     },
     "execution_count": 19,
     "metadata": {},
     "output_type": "execute_result"
    }
   ],
   "source": [
    "lab_df['CHART'] = None\n",
    "for i in range(len(lab_df)):\n",
    "    itemid = lab_df[\"CHART_ITEMID\"][i]\n",
    "    if(itemid not in chart_mapping):\n",
    "        continue\n",
    "    else:\n",
    "        value = lab_df[\"CHART_VALUENUM\"][i]\n",
    "        mean = chart_items_mean[itemid]\n",
    "        std = chart_items_std[itemid]\n",
    "        if(value > (mean+std)):\n",
    "            lab_df['CHART'][i] = str(itemid)+\":HIGH\"\n",
    "        elif(value < (mean-std)):\n",
    "            lab_df['CHART'][i] = str(itemid)+\":LOW\"\n",
    "        else:\n",
    "            lab_df['CHART'][i] = str(itemid)+\":MED\"\n",
    "print(len(lab_df))\n",
    "lab_df.head()"
   ]
  },
  {
   "cell_type": "code",
   "execution_count": 20,
   "id": "f2c5001d",
   "metadata": {},
   "outputs": [
    {
     "name": "stdout",
     "output_type": "stream",
     "text": [
      "2853636\n"
     ]
    },
    {
     "data": {
      "text/html": [
       "<div>\n",
       "<style scoped>\n",
       "    .dataframe tbody tr th:only-of-type {\n",
       "        vertical-align: middle;\n",
       "    }\n",
       "\n",
       "    .dataframe tbody tr th {\n",
       "        vertical-align: top;\n",
       "    }\n",
       "\n",
       "    .dataframe thead th {\n",
       "        text-align: right;\n",
       "    }\n",
       "</style>\n",
       "<table border=\"1\" class=\"dataframe\">\n",
       "  <thead>\n",
       "    <tr style=\"text-align: right;\">\n",
       "      <th></th>\n",
       "      <th>SUBJECT_ID</th>\n",
       "      <th>CHART</th>\n",
       "    </tr>\n",
       "  </thead>\n",
       "  <tbody>\n",
       "    <tr>\n",
       "      <th>0</th>\n",
       "      <td>10002760</td>\n",
       "      <td>50861:MED</td>\n",
       "    </tr>\n",
       "    <tr>\n",
       "      <th>1</th>\n",
       "      <td>10002760</td>\n",
       "      <td>50862:MED</td>\n",
       "    </tr>\n",
       "    <tr>\n",
       "      <th>2</th>\n",
       "      <td>10002760</td>\n",
       "      <td>50863:MED</td>\n",
       "    </tr>\n",
       "    <tr>\n",
       "      <th>3</th>\n",
       "      <td>10002760</td>\n",
       "      <td>50867:MED</td>\n",
       "    </tr>\n",
       "    <tr>\n",
       "      <th>4</th>\n",
       "      <td>10002760</td>\n",
       "      <td>50868:MED</td>\n",
       "    </tr>\n",
       "  </tbody>\n",
       "</table>\n",
       "</div>"
      ],
      "text/plain": [
       "   SUBJECT_ID      CHART\n",
       "0    10002760  50861:MED\n",
       "1    10002760  50862:MED\n",
       "2    10002760  50863:MED\n",
       "3    10002760  50867:MED\n",
       "4    10002760  50868:MED"
      ]
     },
     "execution_count": 20,
     "metadata": {},
     "output_type": "execute_result"
    }
   ],
   "source": [
    "lab_df = lab_df.dropna(subset=['CHART']).reset_index(drop=True).drop(columns=['CHART_ITEMID', 'CHART_VALUENUM'], axis=1)\n",
    "print(len(lab_df))\n",
    "lab_df.head()"
   ]
  },
  {
   "cell_type": "code",
   "execution_count": 21,
   "id": "c8489d1c",
   "metadata": {},
   "outputs": [
    {
     "name": "stdout",
     "output_type": "stream",
     "text": [
      "CURRENT LENGTH IS: 430\n",
      "TOTAL LENGTH WOULD HAVE BEEN: 430\n",
      "{'50861:MED': 0, '50862:MED': 1, '50863:MED': 2, '50867:MED': 3, '50868:MED': 4, '50878:MED': 5, '50882:MED': 6, '50885:MED': 7, '50902:MED': 8, '50912:MED': 9, '50920:MED': 10, '50930:MED': 11, '50954:MED': 12, '50971:MED': 13, '50976:MED': 14, '50983:MED': 15, '51006:MED': 16, '51221:MED': 17, '51222:MED': 18, '51248:MED': 19, '51249:MED': 20, '51250:MED': 21, '51265:MED': 22, '51277:MED': 23, '51279:MED': 24, '51301:MED': 25, '51237:MED': 26, '51274:MED': 27, '51275:MED': 28, '50852:MED': 29, '51613:MED': 30, '50931:MED': 31, '51464:MED': 32, '51466:MED': 33, '51478:MED': 34, '51484:MED': 35, '51486:MED': 36, '51487:MED': 37, '51491:MED': 38, '51492:MED': 39, '51498:MED': 40, '51506:MED': 41, '51508:MED': 42, '51514:MED': 43, '50802:MED': 44, '50804:MED': 45, '50806:MED': 46, '50808:MED': 47, '50809:MED': 48, '50810:HIGH': 49, '50811:HIGH': 50, '50812:MED': 51, '50813:MED': 52, '50818:MED': 53, '50820:MED': 54, '50821:MED': 55, '50822:MED': 56, '50824:MED': 57, '50828:MED': 58, '50810:MED': 59, '50811:MED': 60, '52033:MED': 61, '51214:MED': 62, '50817:MED': 63, '50868:LOW': 64, '50960:MED': 65, '50956:MED': 66, '51146:MED': 67, '51200:MED': 68, '51244:MED': 69, '51254:MED': 70, '51256:MED': 71, '50887:MED': 72, '50893:MED': 73, '50970:MED': 74, '51116:MED': 75, '51118:MED': 76, '51120:MED': 77, '51125:MED': 78, '51127:MED': 79, '52065:MED': 80, '51133:MED': 81, '52069:MED': 82, '52073:MED': 83, '52074:MED': 84, '52075:MED': 85, '52135:MED': 86, '52172:MED': 87, '50883:MED': 88, '50884:MED': 89, '50816:MED': 90, '50819:MED': 91, '50825:MED': 92, '50826:MED': 93, '50827:MED': 94, '50826:HIGH': 95, '51266:MED': 96, '51463:MED': 97, '51476:MED': 98, '51493:MED': 99, '51512:MED': 100, '51516:MED': 101, '51519:MED': 102, '51117:LOW': 103, '51009:MED': 104, '50924:MED': 105, '50952:MED': 106, '50953:LOW': 107, '50998:MED': 108, '50864:MED': 109, '50856:MED': 110, '50879:MED': 111, '50880:MED': 112, '50910:MED': 113, '50922:MED': 114, '50934:MED': 115, '50947:MED': 116, '50981:MED': 117, '50999:MED': 118, '51678:MED': 119, '50955:MED': 120, '51087:MED': 121, '51107:MED': 122, '51103:MED': 123, '50930:HIGH': 124, '50868:HIGH': 125, '51082:MED': 126, '51093:MED': 127, '51100:MED': 128, '51104:MED': 129, '51501:MED': 130, '50835:MED': 131, '50842:MED': 132, '50843:MED': 133, '50849:MED': 134, '51117:MED': 135, '51123:MED': 136, '50933:MED': 137, '51469:MED': 138, '50836:MED': 139, '50838:MED': 140, '51117:HIGH': 141, '51003:MED': 142, '50810:LOW': 143, '50811:LOW': 144, '50911:MED': 145, '51000:MED': 146, '50993:MED': 147, '50995:MED': 148, '50979:MED': 149, '50919:MED': 150, '51257:MED': 151, '50873:MED': 152, '50876:MED': 153, '50903:MED': 154, '50904:MED': 155, '50905:MED': 156, '50907:MED': 157, '50925:MED': 158, '50935:MED': 159, '50940:MED': 160, '50941:MED': 161, '50942:MED': 162, '50943:MED': 163, '50949:MED': 164, '50950:MED': 165, '50951:MED': 166, '50953:MED': 167, '51010:MED': 168, '51657:MED': 169, '51658:MED': 170, '51659:MED': 171, '51663:MED': 172, '51282:MED': 173, '51283:MED': 174, '50900:MED': 175, '51137:MED': 176, '51143:MED': 177, '51144:MED': 178, '51233:MED': 179, '51246:MED': 180, '51251:MED': 181, '51252:MED': 182, '51255:MED': 183, '51267:MED': 184, '51268:MED': 185, '51296:MED': 186, '51145:MED': 187, '51255:HIGH': 188, '51269:MED': 189, '51260:MED': 190, '51839:MED': 191, '52171:MED': 192, '51287:MED': 193, '51462:MED': 194, '51482:MED': 195, '52111:MED': 196, '51134:MED': 197, '51144:HIGH': 198, '51292:MED': 199, '50866:MED': 200, '50825:HIGH': 201, '52023:MED': 202, '51147:MED': 203, '51513:MED': 204, '50853:MED': 205, '51071:MED': 206, '51074:MED': 207, '51075:MED': 208, '51079:MED': 209, '51090:MED': 210, '51092:MED': 211, '51989:MED': 212, '51294:MED': 213, '51732:MED': 214, '51733:MED': 215, '51734:MED': 216, '51735:MED': 217, '51736:MED': 218, '51737:MED': 219, '52004:MED': 220, '52005:LOW': 221, '52006:MED': 222, '52007:MED': 223, '52008:MED': 224, '52009:HIGH': 225, '52010:MED': 226, '51564:MED': 227, '53153:MED': 228, '51706:MED': 229, '50965:MED': 230, '50871:MED': 231, '50907:HIGH': 232, '50953:HIGH': 233, '51865:MED': 234, '51873:MED': 235, '50889:MED': 236, '50927:MED': 237, '51007:MED': 238, '51579:MED': 239, '50874:MED': 240, '50963:MED': 241, '51446:MED': 242, '51447:MED': 243, '51450:MED': 244, '51453:MED': 245, '51455:MED': 246, '51457:MED': 247, '52391:MED': 248, '51051:HIGH': 249, '51053:MED': 250, '51054:MED': 251, '51059:HIGH': 252, '50831:MED': 253, '51046:MED': 254, '51085:MED': 255, '52004:HIGH': 256, '52005:MED': 257, '52009:MED': 258, '51613:HIGH': 259, '51790:MED': 260, '51802:MED': 261, '52264:MED': 262, '52272:MED': 263, '52281:MED': 264, '52285:MED': 265, '52286:MED': 266, '50816:LOW': 267, '50877:MED': 268, '51078:MED': 269, '51097:MED': 270, '51288:MED': 271, '50915:MED': 272, '51218:MED': 273, '50895:MED': 274, '50896:MED': 275, '50994:MED': 276, '51001:MED': 277, '51005:MED': 278, '51069:MED': 279, '51070:MED': 280, '51518:MED': 281, '50905:HIGH': 282, '50906:MED': 283, '50903:HIGH': 284, '50907:LOW': 285, '51737:LOW': 286, '52004:LOW': 287, '50909:MED': 288, '51197:MED': 289, '51219:MED': 290, '50905:LOW': 291, '50930:LOW': 292, '50937:MED': 293, '51660:MED': 294, '51663:HIGH': 295, '50964:HIGH': 296, '50815:MED': 297, '51229:MED': 298, '51752:MED': 299, '50803:MED': 300, '51259:MED': 301, '51098:MED': 302, '51102:MED': 303, '50975:MED': 304, '51216:MED': 305, '50964:MED': 306, '51099:MED': 307, '51497:MED': 308, '51737:HIGH': 309, '50948:MED': 310, '50884:HIGH': 311, '50908:MED': 312, '50908:HIGH': 313, '51231:MED': 314, '50917:MED': 315, '51130:MED': 316, '51131:MED': 317, '51132:MED': 318, '51176:MED': 319, '51180:MED': 320, '51181:MED': 321, '51194:MED': 322, '51245:MED': 323, '51300:MED': 324, '52769:MED': 325, '51089:MED': 326, '51245:LOW': 327, '51059:MED': 328, '51448:MED': 329, '50831:HIGH': 330, '51474:MED': 331, '51213:MED': 332, '51479:MED': 333, '51143:HIGH': 334, '52425:MED': 335, '50831:LOW': 336, '51054:HIGH': 337, '50946:MED': 338, '51196:MED': 339, '51613:LOW': 340, '50974:MED': 341, '50932:MED': 342, '51236:MED': 343, '51067:MED': 344, '51094:MED': 345, '51108:MED': 346, '50996:MED': 347, '50964:LOW': 348, '51051:MED': 349, '50825:LOW': 350, '52036:MED': 351, '50988:MED': 352, '51094:LOW': 353, '50986:MED': 354, '50950:HIGH': 355, '51625:HIGH': 356, '51626:MED': 357, '51627:MED': 358, '50881:HIGH': 359, '51625:MED': 360, '51245:HIGH': 361, '51051:LOW': 362, '51059:LOW': 363, '50967:MED': 364, '50801:MED': 365, '50816:HIGH': 366, '50823:MED': 367, '51659:LOW': 368, '51026:MED': 369, '50801:HIGH': 370, '50823:HIGH': 371, '50892:MED': 372, '50881:MED': 373, '51626:HIGH': 374, '50927:HIGH': 375, '51261:MED': 376, '51148:MED': 377, '51240:MED': 378, '50898:MED': 379, '50895:LOW': 380, '50896:HIGH': 381, '51005:HIGH': 382, '50801:LOW': 383, '50823:LOW': 384, '51736:HIGH': 385, '52008:HIGH': 386, '50815:HIGH': 387, '50908:LOW': 388, '52005:HIGH': 389, '52006:HIGH': 390, '51228:MED': 391, '50843:HIGH': 392, '51067:HIGH': 393, '51108:HIGH': 394, '51790:HIGH': 395, '50903:LOW': 396, '51118:HIGH': 397, '51148:HIGH': 398, '51008:MED': 399, '50914:MED': 400, '50950:LOW': 401, '51269:HIGH': 402, '50978:MED': 403, '50826:LOW': 404, '50819:HIGH': 405, '51259:HIGH': 406, '51123:HIGH': 407, '51300:HIGH': 408, '51802:HIGH': 409, '50819:LOW': 410, '52007:HIGH': 411, '51790:LOW': 412, '51736:LOW': 413, '52010:HIGH': 414, '52008:LOW': 415, '51094:HIGH': 416, '50895:HIGH': 417, '50896:LOW': 418, '51627:HIGH': 419, '51735:HIGH': 420, '50892:HIGH': 421, '51108:LOW': 422, '51657:HIGH': 423, '51005:LOW': 424, '50961:MED': 425, '50898:HIGH': 426, '51659:HIGH': 427, '51269:LOW': 428, '52769:HIGH': 429}\n"
     ]
    }
   ],
   "source": [
    "chart_final_mapping, chart_final_counts = get_reindexed(lab_df, 'CHART', 0)\n",
    "print(chart_final_mapping)"
   ]
  },
  {
   "cell_type": "code",
   "execution_count": 22,
   "id": "c4fc5e4d",
   "metadata": {},
   "outputs": [
    {
     "name": "stdout",
     "output_type": "stream",
     "text": [
      "3166\n"
     ]
    },
    {
     "data": {
      "text/html": [
       "<div>\n",
       "<style scoped>\n",
       "    .dataframe tbody tr th:only-of-type {\n",
       "        vertical-align: middle;\n",
       "    }\n",
       "\n",
       "    .dataframe tbody tr th {\n",
       "        vertical-align: top;\n",
       "    }\n",
       "\n",
       "    .dataframe thead th {\n",
       "        text-align: right;\n",
       "    }\n",
       "</style>\n",
       "<table border=\"1\" class=\"dataframe\">\n",
       "  <thead>\n",
       "    <tr style=\"text-align: right;\">\n",
       "      <th></th>\n",
       "      <th>SUBJECT_ID</th>\n",
       "      <th>CHART</th>\n",
       "      <th>CHART_FEATURES</th>\n",
       "    </tr>\n",
       "  </thead>\n",
       "  <tbody>\n",
       "    <tr>\n",
       "      <th>0</th>\n",
       "      <td>10002760</td>\n",
       "      <td>[50861:MED, 50862:MED, 50863:MED, 50867:MED, 5...</td>\n",
       "      <td>[1, 1, 1, 1, 1, 1, 1, 1, 1, 1, 1, 1, 1, 1, 1, ...</td>\n",
       "    </tr>\n",
       "    <tr>\n",
       "      <th>1</th>\n",
       "      <td>10005866</td>\n",
       "      <td>[50861:MED, 50862:MED, 50863:MED, 50868:MED, 5...</td>\n",
       "      <td>[1, 1, 1, 1, 1, 1, 1, 1, 1, 1, 1, 0, 1, 1, 1, ...</td>\n",
       "    </tr>\n",
       "    <tr>\n",
       "      <th>2</th>\n",
       "      <td>10006029</td>\n",
       "      <td>[50861:MED, 50863:MED, 50867:MED, 50878:MED, 5...</td>\n",
       "      <td>[1, 1, 1, 1, 1, 1, 1, 1, 1, 1, 1, 0, 1, 1, 0, ...</td>\n",
       "    </tr>\n",
       "    <tr>\n",
       "      <th>3</th>\n",
       "      <td>10006431</td>\n",
       "      <td>[51237:MED, 51274:MED, 51275:MED, 51221:MED, 5...</td>\n",
       "      <td>[1, 1, 1, 1, 1, 1, 1, 1, 1, 1, 1, 1, 1, 1, 1, ...</td>\n",
       "    </tr>\n",
       "    <tr>\n",
       "      <th>4</th>\n",
       "      <td>10014234</td>\n",
       "      <td>[51265:MED, 51237:MED, 51274:MED, 51146:MED, 5...</td>\n",
       "      <td>[1, 1, 1, 0, 1, 1, 1, 1, 1, 1, 1, 0, 0, 1, 0, ...</td>\n",
       "    </tr>\n",
       "  </tbody>\n",
       "</table>\n",
       "</div>"
      ],
      "text/plain": [
       "   SUBJECT_ID                                              CHART  \\\n",
       "0    10002760  [50861:MED, 50862:MED, 50863:MED, 50867:MED, 5...   \n",
       "1    10005866  [50861:MED, 50862:MED, 50863:MED, 50868:MED, 5...   \n",
       "2    10006029  [50861:MED, 50863:MED, 50867:MED, 50878:MED, 5...   \n",
       "3    10006431  [51237:MED, 51274:MED, 51275:MED, 51221:MED, 5...   \n",
       "4    10014234  [51265:MED, 51237:MED, 51274:MED, 51146:MED, 5...   \n",
       "\n",
       "                                      CHART_FEATURES  \n",
       "0  [1, 1, 1, 1, 1, 1, 1, 1, 1, 1, 1, 1, 1, 1, 1, ...  \n",
       "1  [1, 1, 1, 1, 1, 1, 1, 1, 1, 1, 1, 0, 1, 1, 1, ...  \n",
       "2  [1, 1, 1, 1, 1, 1, 1, 1, 1, 1, 1, 0, 1, 1, 0, ...  \n",
       "3  [1, 1, 1, 1, 1, 1, 1, 1, 1, 1, 1, 1, 1, 1, 1, ...  \n",
       "4  [1, 1, 1, 0, 1, 1, 1, 1, 1, 1, 1, 0, 0, 1, 0, ...  "
      ]
     },
     "execution_count": 22,
     "metadata": {},
     "output_type": "execute_result"
    }
   ],
   "source": [
    "lab_grouped_df = lab_df.groupby('SUBJECT_ID')['CHART'].agg(list).reset_index()\n",
    "lab_grouped_df['CHART_FEATURES'] = None\n",
    "\n",
    "for i in range(len(lab_grouped_df)):\n",
    "    feature_vec = np.zeros(len(chart_final_mapping), dtype=int)\n",
    "    codes = list(set(lab_grouped_df[\"CHART\"][i]))\n",
    "    for code in codes:\n",
    "        if(chart_final_counts[code]>=0):\n",
    "            index = chart_final_mapping[code]\n",
    "            feature_vec[index] = 1\n",
    "    lab_grouped_df['CHART_FEATURES'][i] = list(feature_vec)\n",
    "print(len(lab_grouped_df))\n",
    "lab_grouped_df.head()"
   ]
  },
  {
   "cell_type": "code",
   "execution_count": 23,
   "id": "bec6bdea",
   "metadata": {},
   "outputs": [
    {
     "name": "stdout",
     "output_type": "stream",
     "text": [
      "[0, 1, 2, 3, 4, 5, 6, 7, 8, 9, 10, 12, 13, 15, 16, 17, 18, 19, 20, 21, 22, 23, 24, 25, 26, 27, 28, 31, 32, 33, 34, 35, 36, 37, 38, 39, 40, 41, 42, 43, 52, 64, 65, 66, 67, 68, 69, 70, 71, 72, 73, 74, 81, 82, 83, 84, 85, 86, 87, 88, 89, 96, 105, 106, 107, 108, 113, 115, 116, 119, 120, 121, 125, 126, 128, 142, 146, 147, 148, 149, 150, 151, 152, 153, 154, 155, 156, 157, 158, 159, 160, 161, 162, 163, 164, 165, 166, 167, 168, 169, 170, 171, 172, 173, 174, 175, 176, 177, 178, 179, 180, 181, 182, 183, 184, 185, 186, 187, 188, 189, 190, 191, 192, 193]\n",
      "[0, 2, 3, 5, 7, 73, 8, 9, 10, 115, 116, 12, 66, 65, 13, 15, 147, 148, 16, 119, 81, 67, 68, 17, 18, 69, 19, 20, 21, 70, 71, 22, 23, 24, 25, 82, 83, 84, 85, 87, 31, 115, 116, 119, 31, 115, 116, 119, 81, 67, 68, 17, 18, 69, 19, 20, 21, 70, 71, 22, 23, 24, 25, 82, 83, 84, 85, 86, 87, 0, 2, 3, 5, 7, 73, 8, 9, 10, 115, 116, 12, 66, 65, 13, 15, 147, 148, 16, 119, 31, 115, 116, 119, 149, 81, 67, 68, 17, 18, 69, 19, 20, 21, 70, 71, 22, 96, 23, 24, 25, 82, 83, 84, 85, 86, 87, 0, 1, 2, 3, 5, 7, 73, 8, 9, 10, 115, 116, 12, 66, 65, 13, 15, 147, 148, 16, 119, 81, 67, 68, 17, 18, 69, 19, 20, 21, 70, 71, 22, 23, 24, 25, 82, 83, 84, 85, 86, 87, 31, 115, 116, 119, 0, 2, 3, 5, 7, 73, 8, 9, 10, 115, 116, 12, 66, 65, 13, 15, 147, 148, 16, 119, 0, 1, 2, 3, 5, 7, 73, 8, 9, 10, 115, 116, 12, 66, 65, 13, 15, 147, 148, 16, 119, 81, 67, 68, 17, 18, 69, 19, 20, 21, 70, 71, 22, 23, 24, 25, 82, 83, 84, 85, 87, 31, 115, 116, 119, 81, 67, 68, 17, 18, 69, 19, 20, 21, 70, 71, 22, 23, 24, 25, 82, 83, 84, 85, 86, 87, 0, 2, 3, 5, 7, 73, 8, 9, 10, 115, 116, 12, 66, 65, 13, 15, 147, 148, 16, 119, 31, 115, 116, 119, 31, 115, 116, 119, 150, 81, 67, 68, 17, 18, 69, 19, 20, 21, 70, 71, 22, 23, 24, 25, 82, 83, 84, 85, 86, 87, 0, 2, 3, 5, 7, 73, 8, 9, 10, 115, 116, 12, 66, 65, 13, 15, 147, 148, 16, 119, 0, 2, 3, 5, 7, 73, 8, 9, 10, 12, 66, 65, 13, 15, 147, 148, 16, 149, 81, 67, 68, 17, 18, 69, 19, 20, 21, 70, 71, 22, 23, 24, 25, 82, 83, 84, 85, 86, 87, 31, 115, 116, 119, 31, 115, 116, 119, 81, 67, 68, 17, 18, 69, 19, 20, 21, 70, 71, 22, 96, 23, 24, 25, 82, 83, 84, 85, 86, 87, 0, 2, 3, 5, 7, 73, 8, 9, 10, 115, 116, 12, 66, 65, 13, 15, 147, 148, 16, 119, 31, 115, 116, 119, 0, 2, 3, 5, 7, 73, 8, 9, 10, 115, 116, 12, 66, 65, 13, 15, 147, 148, 16, 119, 81, 67, 68, 17, 18, 69, 19, 20, 21, 70, 71, 151, 22, 23, 24, 25, 82, 83, 84, 85, 86, 87, 31, 115, 116, 119, 81, 67, 68, 17, 18, 69, 19, 20, 21, 70, 71, 22, 23, 24, 25, 82, 83, 84, 85, 86, 87, 0, 2, 3, 5, 7, 73, 8, 9, 10, 115, 116, 12, 66, 65, 13, 15, 147, 148, 16, 119, 81, 67, 68, 17, 18, 69, 19, 20, 21, 70, 71, 22, 23, 24, 25, 82, 83, 84, 85, 86, 87, 31, 115, 116, 119, 0, 2, 3, 5, 7, 73, 8, 9, 10, 115, 116, 12, 66, 65, 13, 15, 147, 148, 16, 119, 0, 2, 3, 5, 7, 73, 8, 9, 10, 115, 116, 12, 66, 65, 13, 15, 147, 148, 16, 119, 81, 67, 68, 17, 18, 69, 19, 20, 21, 70, 71, 22, 23, 24, 25, 82, 83, 84, 85, 86, 87, 31, 115, 116, 119, 31, 115, 116, 119, 81, 67, 68, 17, 18, 69, 19, 20, 21, 70, 71, 151, 22, 23, 24, 25, 82, 83, 84, 85, 86, 87, 0, 2, 3, 5, 7, 73, 8, 9, 10, 115, 116, 12, 66, 65, 13, 15, 147, 148, 16, 119, 31, 115, 116, 119, 81, 67, 68, 17, 18, 69, 19, 20, 21, 70, 71, 22, 23, 24, 25, 82, 83, 84, 85, 87, 0, 2, 3, 5, 7, 73, 8, 9, 10, 115, 116, 12, 66, 65, 13, 15, 147, 148, 16, 119, 0, 2, 3, 5, 7, 73, 8, 9, 10, 115, 116, 12, 66, 65, 13, 15, 147, 148, 16, 119, 31, 115, 116, 119, 81, 67, 68, 17, 18, 69, 19, 20, 21, 70, 71, 151, 22, 23, 24, 25, 82, 83, 84, 85, 86, 87, 81, 67, 68, 17, 18, 69, 19, 20, 21, 70, 71, 22, 23, 24, 25, 82, 83, 84, 85, 86, 87, 0, 2, 3, 5, 7, 73, 8, 9, 10, 115, 116, 12, 66, 65, 13, 15, 147, 148, 16, 119, 31, 115, 116, 119, 0, 2, 3, 5, 88, 89, 7, 73, 8, 9, 10, 115, 116, 12, 66, 65, 13, 15, 147, 148, 16, 119, 81, 67, 68, 17, 18, 69, 19, 20, 21, 70, 71, 22, 23, 24, 25, 82, 83, 84, 85, 86, 87, 31, 115, 116, 119, 26, 27, 28, 0, 1, 2, 152, 153, 5, 7, 154, 155, 156, 157, 113, 105, 158, 115, 159, 160, 161, 162, 163, 116, 164, 165, 166, 106, 167, 12, 108, 146, 142, 168, 169, 170, 171, 172, 119, 0, 1, 2, 4, 5, 6, 7, 8, 9, 31, 115, 116, 12, 13, 15, 16, 119, 17, 18, 19, 20, 21, 22, 23, 24, 25, 87, 52, 26, 27, 28, 17, 18, 19, 20, 21, 22, 23, 24, 25, 87, 0, 1, 2, 4, 5, 6, 88, 89, 7, 73, 8, 9, 31, 115, 116, 12, 66, 65, 74, 13, 15, 16, 119, 0, 2, 3, 64, 5, 6, 7, 73, 8, 9, 10, 115, 116, 12, 66, 65, 13, 15, 147, 148, 16, 119, 81, 67, 68, 17, 18, 69, 19, 20, 21, 70, 71, 22, 23, 24, 25, 82, 83, 84, 85, 86, 87, 31, 115, 116, 119, 0, 2, 3, 5, 7, 73, 8, 9, 10, 115, 116, 12, 66, 65, 13, 15, 147, 148, 16, 119, 81, 67, 68, 17, 18, 69, 19, 20, 21, 70, 71, 22, 23, 24, 25, 82, 83, 84, 85, 87, 31, 115, 116, 119, 0, 1, 2, 4, 5, 6, 88, 89, 7, 8, 9, 31, 115, 116, 66, 13, 15, 16, 119, 120, 72, 81, 67, 68, 17, 18, 69, 19, 20, 21, 70, 71, 22, 23, 24, 25, 82, 83, 84, 85, 86, 87, 52, 17, 18, 19, 20, 21, 22, 23, 24, 173, 174, 25, 87, 0, 1, 2, 4, 5, 6, 7, 73, 8, 9, 105, 31, 115, 159, 116, 106, 107, 12, 65, 74, 13, 15, 108, 16, 119, 17, 18, 19, 20, 21, 22, 23, 24, 25, 87, 0, 2, 4, 5, 6, 7, 73, 8, 9, 31, 115, 116, 65, 74, 13, 15, 16, 119, 17, 18, 19, 20, 21, 22, 23, 24, 25, 87, 17, 18, 19, 20, 21, 22, 23, 24, 25, 87, 121, 128, 0, 2, 4, 5, 6, 7, 73, 8, 9, 10, 31, 115, 116, 65, 74, 13, 15, 16, 119, 17, 18, 19, 20, 21, 22, 23, 24, 25, 87, 26, 27, 17, 18, 19, 20, 21, 22, 23, 24, 25, 87, 0, 2, 4, 5, 6, 7, 73, 8, 9, 31, 115, 116, 65, 74, 13, 15, 16, 119, 0, 2, 4, 5, 6, 7, 73, 8, 9, 31, 115, 116, 65, 74, 13, 15, 16, 119, 17, 18, 19, 20, 21, 22, 23, 24, 25, 87, 26, 27, 0, 2, 4, 5, 6, 7, 73, 8, 9, 31, 115, 116, 65, 74, 13, 15, 16, 119, 17, 18, 19, 20, 21, 22, 23, 24, 25, 87, 0, 2, 3, 4, 5, 6, 7, 73, 8, 9, 10, 115, 116, 12, 66, 65, 74, 13, 15, 147, 148, 16, 119, 31, 115, 116, 119, 81, 67, 68, 17, 18, 69, 19, 20, 21, 70, 71, 151, 22, 23, 24, 25, 82, 83, 84, 85, 86, 87, 0, 2, 3, 4, 5, 6, 7, 73, 175, 8, 9, 10, 31, 115, 116, 12, 66, 65, 74, 13, 15, 147, 148, 16, 119, 120, 81, 67, 68, 17, 18, 69, 19, 20, 21, 70, 71, 22, 23, 24, 25, 82, 83, 84, 85, 86, 87, 81, 176, 177, 178, 67, 68, 17, 18, 179, 69, 180, 19, 20, 21, 181, 182, 70, 183, 71, 151, 22, 96, 184, 185, 23, 24, 186, 25, 82, 83, 84, 85, 87, 175, 0, 1, 2, 4, 5, 6, 7, 73, 8, 9, 115, 116, 12, 65, 74, 13, 15, 16, 119, 32, 33, 34, 35, 36, 37, 38, 39, 40, 41, 42, 43, 0, 1, 2, 4, 5, 6, 7, 73, 8, 9, 10, 115, 116, 12, 65, 74, 13, 15, 16, 119, 81, 67, 68, 17, 18, 69, 19, 20, 21, 70, 71, 22, 23, 24, 25, 82, 83, 84, 85, 86, 87, 175, 81, 67, 68, 17, 18, 69, 19, 20, 21, 70, 71, 22, 23, 24, 25, 82, 83, 84, 85, 86, 87, 0, 1, 2, 4, 5, 6, 7, 73, 8, 9, 115, 116, 12, 65, 74, 13, 15, 16, 119, 175, 81, 176, 177, 178, 187, 67, 68, 17, 18, 179, 69, 180, 19, 20, 21, 181, 182, 70, 188, 71, 151, 22, 96, 184, 185, 189, 23, 24, 186, 25, 82, 83, 84, 85, 87, 149, 0, 1, 2, 4, 5, 6, 7, 73, 8, 9, 10, 115, 116, 12, 65, 74, 13, 15, 16, 119, 0, 1, 2, 4, 5, 6, 7, 73, 8, 9, 115, 116, 12, 65, 74, 13, 15, 16, 119, 81, 67, 68, 17, 18, 69, 19, 20, 21, 70, 71, 22, 23, 24, 25, 82, 83, 84, 85, 86, 87, 175, 0, 1, 2, 4, 5, 6, 7, 73, 8, 9, 115, 116, 12, 65, 74, 13, 15, 16, 119, 81, 176, 177, 178, 187, 67, 68, 17, 18, 179, 69, 180, 19, 20, 21, 181, 182, 70, 183, 71, 22, 96, 184, 185, 23, 24, 186, 25, 82, 83, 84, 85, 87, 0, 1, 2, 4, 5, 6, 7, 73, 8, 9, 10, 115, 116, 12, 65, 74, 13, 15, 16, 119, 81, 176, 177, 178, 67, 68, 17, 18, 179, 69, 180, 19, 20, 21, 181, 182, 70, 188, 71, 190, 22, 96, 184, 185, 23, 24, 186, 25, 82, 83, 84, 85, 87, 175, 158, 168, 81, 67, 68, 17, 18, 69, 19, 20, 21, 70, 71, 22, 23, 24, 25, 82, 83, 84, 85, 86, 87, 0, 1, 2, 4, 5, 6, 7, 73, 8, 9, 115, 116, 12, 65, 74, 13, 15, 16, 119, 0, 1, 2, 4, 5, 6, 7, 73, 8, 9, 10, 115, 116, 12, 65, 74, 13, 15, 16, 119, 81, 176, 177, 178, 67, 68, 17, 18, 179, 69, 180, 19, 20, 21, 181, 182, 70, 188, 71, 22, 96, 184, 185, 23, 24, 186, 25, 82, 83, 84, 85, 87, 0, 1, 2, 4, 5, 6, 7, 73, 8, 9, 115, 116, 12, 65, 74, 13, 15, 16, 119, 175, 81, 67, 68, 17, 18, 69, 19, 20, 21, 70, 71, 151, 22, 23, 24, 25, 82, 83, 84, 85, 86, 87, 81, 176, 177, 178, 67, 68, 17, 18, 179, 69, 180, 19, 20, 21, 181, 182, 70, 183, 71, 151, 22, 96, 184, 185, 23, 24, 186, 25, 82, 83, 84, 85, 87, 0, 1, 2, 4, 5, 6, 7, 73, 8, 9, 115, 116, 12, 65, 74, 13, 15, 16, 119, 81, 67, 68, 17, 18, 69, 19, 20, 21, 70, 71, 151, 22, 23, 24, 25, 82, 83, 84, 85, 86, 87, 175, 0, 1, 2, 4, 5, 6, 7, 73, 8, 9, 115, 116, 12, 65, 74, 13, 15, 16, 119, 81, 67, 68, 17, 18, 69, 19, 20, 21, 70, 71, 22, 23, 24, 25, 82, 83, 84, 85, 86, 87, 81, 67, 68, 17, 18, 69, 19, 20, 21, 70, 71, 151, 22, 23, 24, 25, 82, 83, 84, 85, 86, 87, 0, 1, 2, 4, 5, 6, 7, 73, 8, 9, 115, 116, 12, 65, 74, 13, 15, 16, 119, 175, 115, 116, 147, 148, 119, 0, 1, 2, 4, 5, 6, 7, 73, 8, 9, 115, 116, 12, 65, 74, 13, 15, 16, 119, 81, 67, 68, 17, 18, 69, 19, 20, 21, 70, 71, 22, 23, 24, 25, 82, 83, 84, 85, 86, 87, 175, 81, 67, 68, 17, 18, 69, 19, 20, 21, 70, 71, 22, 23, 24, 25, 82, 83, 84, 85, 86, 87, 175, 0, 1, 2, 4, 5, 6, 7, 73, 8, 9, 10, 115, 116, 12, 65, 74, 13, 15, 16, 119, 81, 67, 68, 17, 18, 69, 19, 20, 21, 70, 71, 22, 23, 24, 25, 82, 83, 84, 85, 86, 87, 0, 1, 2, 4, 5, 6, 7, 73, 8, 9, 115, 116, 12, 65, 74, 13, 15, 16, 119, 175, 81, 67, 68, 17, 18, 69, 19, 20, 21, 70, 71, 22, 23, 24, 25, 82, 83, 84, 85, 86, 87, 175, 0, 1, 2, 4, 5, 6, 7, 73, 8, 9, 115, 116, 12, 65, 74, 13, 15, 16, 119, 175, 81, 67, 68, 17, 18, 69, 19, 20, 21, 70, 71, 22, 23, 24, 25, 82, 83, 84, 85, 86, 87, 0, 1, 2, 4, 5, 6, 7, 73, 8, 9, 115, 116, 12, 65, 74, 13, 15, 16, 119, 81, 67, 68, 17, 18, 69, 19, 20, 21, 70, 71, 22, 23, 24, 25, 82, 83, 84, 85, 86, 87, 175, 0, 1, 2, 4, 5, 6, 7, 73, 8, 9, 10, 115, 116, 12, 65, 74, 13, 15, 16, 119, 22, 26, 27, 191, 175, 0, 1, 2, 4, 5, 6, 7, 73, 8, 9, 115, 116, 12, 65, 74, 13, 15, 16, 119, 81, 67, 68, 17, 18, 69, 19, 20, 21, 70, 71, 22, 23, 24, 25, 82, 83, 84, 85, 86, 87, 0, 1, 2, 64, 5, 6, 7, 73, 8, 9, 115, 116, 12, 65, 74, 13, 15, 16, 119, 175, 81, 67, 68, 17, 18, 69, 19, 20, 21, 70, 71, 22, 23, 24, 25, 82, 83, 84, 85, 86, 87, 175, 81, 67, 68, 17, 18, 69, 19, 20, 21, 70, 71, 22, 23, 24, 25, 82, 83, 84, 85, 86, 87, 0, 1, 2, 4, 5, 6, 7, 73, 8, 9, 115, 116, 12, 65, 74, 13, 15, 16, 119, 0, 1, 2, 4, 5, 6, 7, 73, 8, 9, 115, 116, 12, 65, 74, 13, 15, 16, 119, 81, 67, 68, 17, 18, 69, 19, 20, 21, 70, 71, 22, 23, 24, 25, 82, 83, 84, 85, 86, 87, 126, 121, 128, 32, 33, 34, 35, 36, 37, 38, 39, 40, 41, 42, 43, 4, 6, 73, 8, 9, 10, 31, 115, 159, 116, 65, 74, 13, 15, 16, 119, 17, 18, 19, 20, 21, 22, 23, 24, 25, 192, 87, 17, 18, 19, 20, 21, 22, 23, 24, 25, 87, 4, 6, 73, 8, 9, 31, 115, 116, 65, 74, 13, 15, 16, 119, 175, 81, 67, 68, 17, 18, 69, 19, 20, 21, 70, 71, 22, 23, 24, 25, 82, 83, 84, 85, 86, 87, 0, 1, 2, 4, 5, 6, 7, 73, 8, 9, 115, 116, 12, 65, 74, 13, 15, 16, 119, 0, 1, 2, 4, 5, 6, 7, 73, 8, 9, 115, 116, 12, 65, 74, 13, 15, 16, 119, 81, 67, 68, 17, 18, 69, 19, 20, 21, 70, 71, 22, 23, 24, 25, 82, 83, 84, 85, 86, 87, 81, 67, 68, 17, 18, 69, 19, 20, 21, 70, 71, 22, 23, 24, 25, 82, 83, 84, 85, 86, 87, 175, 0, 1, 2, 4, 5, 6, 7, 73, 8, 9, 10, 115, 116, 12, 65, 74, 13, 15, 16, 119, 0, 1, 2, 4, 5, 6, 7, 73, 8, 9, 115, 116, 12, 65, 74, 13, 15, 16, 119, 3, 115, 116, 66, 149, 119, 81, 176, 67, 68, 17, 18, 69, 19, 20, 21, 181, 70, 71, 22, 96, 184, 185, 23, 24, 193, 25, 82, 83, 84, 85, 192, 87, 0, 1, 2, 4, 5, 6, 7, 73, 8, 9, 31, 115, 116, 12, 65, 74, 13, 15, 16, 119, 26, 27, 28, 81, 67, 68, 17, 18, 69, 19, 20, 21, 70, 71, 22, 23, 24, 25, 82, 83, 84, 85, 86, 87, 17, 18, 19, 20, 21, 22, 23, 24, 25, 87, 17, 18, 19, 20, 21, 22, 23, 24, 25, 87, 0, 2, 64, 5, 6, 7, 73, 8, 9, 31, 115, 116, 65, 74, 13, 15, 16, 119, 0, 2, 4, 5, 6, 7, 8, 9, 31, 115, 116, 12, 13, 15, 16, 119, 17, 18, 19, 20, 21, 22, 23, 24, 25, 87, 0, 2, 4, 5, 6, 7, 73, 8, 9, 31, 115, 116, 12, 65, 74, 13, 15, 16, 119, 17, 18, 19, 20, 21, 22, 23, 24, 25, 87, 0, 2, 125, 5, 6, 7, 8, 9, 10, 31, 115, 116, 12, 13, 15, 16, 119, 17, 18, 19, 20, 21, 22, 23, 24, 25, 87, 125, 6, 8, 9, 31, 115, 116, 13, 15, 16, 119, 17, 18, 19, 20, 21, 22, 23, 24, 25, 87, 125, 6, 8, 9, 31, 115, 116, 13, 15, 16, 119, 17, 18, 19, 20, 21, 22, 23, 24, 25, 87, 0, 2, 4, 5, 6, 7, 73, 8, 9, 10, 31, 115, 116, 12, 65, 74, 13, 15, 16, 119, 17, 18, 19, 20, 21, 22, 23, 24, 25, 87, 0, 2, 125, 5, 6, 7, 73, 8, 9, 31, 115, 116, 12, 65, 74, 13, 15, 16, 119, 17, 18, 19, 20, 21, 22, 23, 24, 25, 87]\n",
      "True\n"
     ]
    }
   ],
   "source": [
    "index = 2\n",
    "lista = []\n",
    "listb = []\n",
    "for i in range(len(lab_grouped_df['CHART_FEATURES'][index])):\n",
    "    if(lab_grouped_df['CHART_FEATURES'][index][i]==1):\n",
    "        lista.append(i)\n",
    "\n",
    "for key in lab_grouped_df['CHART'][index]:\n",
    "    if(key in chart_final_mapping):\n",
    "        listb.append(chart_final_mapping[key])\n",
    "        \n",
    "print(lista)\n",
    "print(listb)\n",
    "print(set(lista)==set(listb))"
   ]
  },
  {
   "cell_type": "markdown",
   "id": "b0470314",
   "metadata": {},
   "source": [
    "## Find all entries for positive patient"
   ]
  },
  {
   "cell_type": "code",
   "execution_count": 37,
   "id": "37214e68",
   "metadata": {},
   "outputs": [
    {
     "data": {
      "text/html": [
       "<div>\n",
       "<style scoped>\n",
       "    .dataframe tbody tr th:only-of-type {\n",
       "        vertical-align: middle;\n",
       "    }\n",
       "\n",
       "    .dataframe tbody tr th {\n",
       "        vertical-align: top;\n",
       "    }\n",
       "\n",
       "    .dataframe thead th {\n",
       "        text-align: right;\n",
       "    }\n",
       "</style>\n",
       "<table border=\"1\" class=\"dataframe\">\n",
       "  <thead>\n",
       "    <tr style=\"text-align: right;\">\n",
       "      <th></th>\n",
       "      <th>SUBJECT_ID</th>\n",
       "      <th>GENDER</th>\n",
       "      <th>PANCAN</th>\n",
       "    </tr>\n",
       "  </thead>\n",
       "  <tbody>\n",
       "    <tr>\n",
       "      <th>1751</th>\n",
       "      <td>15461483</td>\n",
       "      <td>0</td>\n",
       "      <td>1</td>\n",
       "    </tr>\n",
       "  </tbody>\n",
       "</table>\n",
       "</div>"
      ],
      "text/plain": [
       "      SUBJECT_ID  GENDER  PANCAN\n",
       "1751    15461483       0       1"
      ]
     },
     "metadata": {},
     "output_type": "display_data"
    },
    {
     "data": {
      "text/html": [
       "<div>\n",
       "<style scoped>\n",
       "    .dataframe tbody tr th:only-of-type {\n",
       "        vertical-align: middle;\n",
       "    }\n",
       "\n",
       "    .dataframe tbody tr th {\n",
       "        vertical-align: top;\n",
       "    }\n",
       "\n",
       "    .dataframe thead th {\n",
       "        text-align: right;\n",
       "    }\n",
       "</style>\n",
       "<table border=\"1\" class=\"dataframe\">\n",
       "  <thead>\n",
       "    <tr style=\"text-align: right;\">\n",
       "      <th></th>\n",
       "      <th>SUBJECT_ID</th>\n",
       "      <th>NDC</th>\n",
       "      <th>NDC_FEATURES</th>\n",
       "    </tr>\n",
       "  </thead>\n",
       "  <tbody>\n",
       "    <tr>\n",
       "      <th>1642</th>\n",
       "      <td>15461483</td>\n",
       "      <td>[904198861, 409491134, 603385521, 121176130, 5...</td>\n",
       "      <td>[0, 0, 0, 1, 0, 0, 0, 0, 0, 0, 0, 0, 0, 0, 0, ...</td>\n",
       "    </tr>\n",
       "  </tbody>\n",
       "</table>\n",
       "</div>"
      ],
      "text/plain": [
       "      SUBJECT_ID                                                NDC  \\\n",
       "1642    15461483  [904198861, 409491134, 603385521, 121176130, 5...   \n",
       "\n",
       "                                           NDC_FEATURES  \n",
       "1642  [0, 0, 0, 1, 0, 0, 0, 0, 0, 0, 0, 0, 0, 0, 0, ...  "
      ]
     },
     "metadata": {},
     "output_type": "display_data"
    },
    {
     "name": "stdout",
     "output_type": "stream",
     "text": [
      "[904198861, 409491134, 603385521, 121176130, 51079045120, 51079045620, 6473900, 63739002401, 33332001001, 51079075920, 63653117103, 338004304, 0, 904632261, 68084034601, 904632261, 66553000201, 68084059101, 904640861, 904629261, 0, 904053061, 19515090941, 63323026201, 60505251903, 68084034601, 904629261, 904198861, 904640861, 68084059101, 904632261, 904628889, 904629261, 0, 338358048, 904053061, 121197100, 0, 904640861, 63323026201]\n"
     ]
    },
    {
     "data": {
      "text/html": [
       "<div>\n",
       "<style scoped>\n",
       "    .dataframe tbody tr th:only-of-type {\n",
       "        vertical-align: middle;\n",
       "    }\n",
       "\n",
       "    .dataframe tbody tr th {\n",
       "        vertical-align: top;\n",
       "    }\n",
       "\n",
       "    .dataframe thead th {\n",
       "        text-align: right;\n",
       "    }\n",
       "</style>\n",
       "<table border=\"1\" class=\"dataframe\">\n",
       "  <thead>\n",
       "    <tr style=\"text-align: right;\">\n",
       "      <th></th>\n",
       "      <th>SUBJECT_ID</th>\n",
       "      <th>ICD_CODE</th>\n",
       "      <th>ICD_FEATURES</th>\n",
       "    </tr>\n",
       "  </thead>\n",
       "  <tbody>\n",
       "    <tr>\n",
       "      <th>1370</th>\n",
       "      <td>15461483</td>\n",
       "      <td>[3950_9, 3990_9, 8848_9, 0047_9, 0042_9, 0JH60...</td>\n",
       "      <td>[0, 0, 0, 0, 0, 0, 0, 0, 0, 0, 0, 0, 0, 0, 1, ...</td>\n",
       "    </tr>\n",
       "  </tbody>\n",
       "</table>\n",
       "</div>"
      ],
      "text/plain": [
       "      SUBJECT_ID                                           ICD_CODE  \\\n",
       "1370    15461483  [3950_9, 3990_9, 8848_9, 0047_9, 0042_9, 0JH60...   \n",
       "\n",
       "                                           ICD_FEATURES  \n",
       "1370  [0, 0, 0, 0, 0, 0, 0, 0, 0, 0, 0, 0, 0, 0, 1, ...  "
      ]
     },
     "metadata": {},
     "output_type": "display_data"
    },
    {
     "name": "stdout",
     "output_type": "stream",
     "text": [
      "['3950_9', '3990_9', '8848_9', '0047_9', '0042_9', '0JH606Z_10', '02H63JZ_10', '0JPT0PZ_10', '02HK3JZ_10']\n"
     ]
    },
    {
     "data": {
      "text/html": [
       "<div>\n",
       "<style scoped>\n",
       "    .dataframe tbody tr th:only-of-type {\n",
       "        vertical-align: middle;\n",
       "    }\n",
       "\n",
       "    .dataframe tbody tr th {\n",
       "        vertical-align: top;\n",
       "    }\n",
       "\n",
       "    .dataframe thead th {\n",
       "        text-align: right;\n",
       "    }\n",
       "</style>\n",
       "<table border=\"1\" class=\"dataframe\">\n",
       "  <thead>\n",
       "    <tr style=\"text-align: right;\">\n",
       "      <th></th>\n",
       "      <th>SUBJECT_ID</th>\n",
       "      <th>CHART</th>\n",
       "      <th>CHART_FEATURES</th>\n",
       "    </tr>\n",
       "  </thead>\n",
       "  <tbody>\n",
       "    <tr>\n",
       "      <th>1737</th>\n",
       "      <td>15461483</td>\n",
       "      <td>[50902:MED, 50910:MED, 50911:MED, 50971:MED, 5...</td>\n",
       "      <td>[0, 0, 0, 0, 1, 0, 1, 0, 1, 1, 1, 0, 0, 1, 0, ...</td>\n",
       "    </tr>\n",
       "  </tbody>\n",
       "</table>\n",
       "</div>"
      ],
      "text/plain": [
       "      SUBJECT_ID                                              CHART  \\\n",
       "1737    15461483  [50902:MED, 50910:MED, 50911:MED, 50971:MED, 5...   \n",
       "\n",
       "                                         CHART_FEATURES  \n",
       "1737  [0, 0, 0, 0, 1, 0, 1, 0, 1, 1, 1, 0, 0, 1, 0, ...  "
      ]
     },
     "metadata": {},
     "output_type": "display_data"
    },
    {
     "name": "stdout",
     "output_type": "stream",
     "text": [
      "['50902:MED', '50910:MED', '50911:MED', '50971:MED', '50983:MED', '51265:MED', '50902:MED', '50910:MED', '50911:MED', '50912:MED', '50920:MED', '50971:MED', '50983:MED', '51006:MED', '51221:MED', '51265:MED', '50868:MED', '50882:MED', '50893:MED', '50902:MED', '50912:MED', '50920:MED', '50931:MED', '50960:MED', '50970:MED', '50971:MED', '50983:MED', '51006:MED', '51146:MED', '51200:MED', '51221:MED', '51222:MED', '51244:MED', '51248:MED', '51249:MED', '51250:MED', '51254:MED', '51256:MED', '51265:MED', '51277:MED', '51279:MED', '51301:MED', '51237:MED', '51274:MED', '51275:MED', '51003:MED', '50813:MED', '52033:MED', '51003:MED', '50868:MED', '50882:MED', '50902:MED', '50912:MED', '50920:MED', '50931:MED', '50934:MED', '50947:MED', '50963:MED', '50971:MED', '50983:MED', '51006:MED', '51678:MED', '51237:MED', '51274:MED', '51275:MED', '50934:MED', '50947:MED', '51003:MED', '51678:MED', '51133:MED', '51137:MED', '51143:MED', '51144:MED', '51146:MED', '51200:MED', '51221:MED', '51222:MED', '51233:MED', '51244:MED', '51246:MED', '51248:MED', '51249:MED', '51250:MED', '51251:MED', '51252:MED', '51254:MED', '51255:MED', '51256:MED', '51257:MED', '51265:MED', '51266:MED', '51267:MED', '51268:MED', '51277:MED', '51279:MED', '51301:MED', '52069:MED', '52073:MED', '52074:MED', '52075:MED', '52172:MED', '50933:MED', '51463:MED', '51464:MED', '51466:MED', '51476:MED', '51478:MED', '51484:MED', '51486:MED', '51487:MED', '51491:MED', '51492:MED', '51493:MED', '51498:MED', '51506:MED', '51508:MED', '51512:MED', '51514:MED', '51516:MED', '51519:MED', '51087:MED', '51103:MED', '50934:MED', '50947:MED', '51003:MED', '51678:MED', '50934:MED', '50947:MED', '51003:MED', '51678:MED', '50868:MED', '50882:MED', '50893:MED', '50902:MED', '50910:MED', '50911:MED', '50912:MED', '50920:MED', '50931:MED', '50934:MED', '50947:MED', '50960:MED', '50970:MED', '50971:MED', '50983:MED', '51006:MED', '51678:MED', '51133:MED', '51137:MED', '51143:MED', '51144:MED', '51146:MED', '51200:MED', '51221:MED', '51222:MED', '51233:MED', '51244:MED', '51246:MED', '51248:MED', '51249:MED', '51250:MED', '51251:MED', '51252:MED', '51254:MED', '51255:MED', '51256:MED', '51265:MED', '51266:MED', '51267:MED', '51268:MED', '51277:MED', '51279:MED', '51301:MED', '52069:MED', '52073:MED', '52074:MED', '52075:MED', '52172:MED', '50934:MED', '50947:MED', '51003:MED', '51678:MED', '50887:MED', '50813:MED', '51221:MED', '51222:MED', '51248:MED', '51249:MED', '51250:MED', '51265:MED', '51277:MED', '51279:MED', '51301:MED', '52172:MED', '50868:MED', '50882:MED', '50893:MED', '50902:MED', '50912:MED', '50931:MED', '50934:MED', '50947:MED', '50960:MED', '50970:MED', '50971:MED', '50983:MED', '51006:MED', '51678:MED', '50887:MED', '50934:MED', '50947:MED', '50955:MED', '51003:MED', '51678:MED', '51133:MED', '51144:MED', '51146:MED', '51200:MED', '51221:MED', '51222:MED', '51244:MED', '51248:MED', '51249:MED', '51250:MED', '51254:MED', '51256:MED', '51265:MED', '51266:MED', '51277:MED', '51279:MED', '51301:MED', '52069:MED', '52073:MED', '52074:MED', '52075:MED', '52171:MED', '52172:MED', '50868:MED', '50882:MED', '50893:MED', '50902:MED', '50912:MED', '50920:MED', '50931:MED', '50934:MED', '50947:MED', '50960:MED', '50970:MED', '50971:MED', '50983:MED', '51006:MED', '51678:MED', '50933:MED', '51221:MED', '51222:MED', '51248:MED', '51249:MED', '51250:MED', '51265:MED', '51277:MED', '51279:MED', '51301:MED', '52172:MED', '50868:MED', '50882:MED', '50902:MED', '50912:MED', '50931:MED', '50934:MED', '50947:MED', '50960:MED', '50970:MED', '50971:MED', '50983:MED', '51006:MED', '51678:MED']\n"
     ]
    }
   ],
   "source": [
    "yes_patid = 15461483\n",
    "patient_info = patient_df[patient_df['SUBJECT_ID'] == yes_patid]\n",
    "display(patient_info)\n",
    "med_grouped_info = med_grouped_df[med_grouped_df['SUBJECT_ID'] == yes_patid]\n",
    "display(med_grouped_info)\n",
    "print(list(med_grouped_info['NDC'])[0])\n",
    "procedure_grouped_info = procedure_grouped_df[procedure_grouped_df['SUBJECT_ID'] == yes_patid]\n",
    "display(procedure_grouped_info)\n",
    "print(list(procedure_grouped_info['ICD_CODE'])[0])\n",
    "lab_grouped_info = lab_grouped_df[lab_grouped_df['SUBJECT_ID'] == yes_patid]\n",
    "display(lab_grouped_info)\n",
    "print(list(lab_grouped_info['CHART'])[0])"
   ]
  },
  {
   "cell_type": "markdown",
   "id": "563ef522",
   "metadata": {},
   "source": [
    "## Find all entries for negative patient"
   ]
  },
  {
   "cell_type": "code",
   "execution_count": 38,
   "id": "9fb5201e",
   "metadata": {},
   "outputs": [
    {
     "data": {
      "text/html": [
       "<div>\n",
       "<style scoped>\n",
       "    .dataframe tbody tr th:only-of-type {\n",
       "        vertical-align: middle;\n",
       "    }\n",
       "\n",
       "    .dataframe tbody tr th {\n",
       "        vertical-align: top;\n",
       "    }\n",
       "\n",
       "    .dataframe thead th {\n",
       "        text-align: right;\n",
       "    }\n",
       "</style>\n",
       "<table border=\"1\" class=\"dataframe\">\n",
       "  <thead>\n",
       "    <tr style=\"text-align: right;\">\n",
       "      <th></th>\n",
       "      <th>SUBJECT_ID</th>\n",
       "      <th>GENDER</th>\n",
       "      <th>PANCAN</th>\n",
       "    </tr>\n",
       "  </thead>\n",
       "  <tbody>\n",
       "    <tr>\n",
       "      <th>1736</th>\n",
       "      <td>15430683</td>\n",
       "      <td>1</td>\n",
       "      <td>0</td>\n",
       "    </tr>\n",
       "  </tbody>\n",
       "</table>\n",
       "</div>"
      ],
      "text/plain": [
       "      SUBJECT_ID  GENDER  PANCAN\n",
       "1736    15430683       1       0"
      ]
     },
     "metadata": {},
     "output_type": "display_data"
    },
    {
     "data": {
      "text/html": [
       "<div>\n",
       "<style scoped>\n",
       "    .dataframe tbody tr th:only-of-type {\n",
       "        vertical-align: middle;\n",
       "    }\n",
       "\n",
       "    .dataframe tbody tr th {\n",
       "        vertical-align: top;\n",
       "    }\n",
       "\n",
       "    .dataframe thead th {\n",
       "        text-align: right;\n",
       "    }\n",
       "</style>\n",
       "<table border=\"1\" class=\"dataframe\">\n",
       "  <thead>\n",
       "    <tr style=\"text-align: right;\">\n",
       "      <th></th>\n",
       "      <th>SUBJECT_ID</th>\n",
       "      <th>NDC</th>\n",
       "      <th>NDC_FEATURES</th>\n",
       "    </tr>\n",
       "  </thead>\n",
       "  <tbody>\n",
       "    <tr>\n",
       "      <th>1628</th>\n",
       "      <td>15430683</td>\n",
       "      <td>[904516561, 574705050, 143178701, 54839224, 51...</td>\n",
       "      <td>[0, 0, 0, 1, 0, 0, 1, 0, 1, 0, 0, 0, 0, 0, 0, ...</td>\n",
       "    </tr>\n",
       "  </tbody>\n",
       "</table>\n",
       "</div>"
      ],
      "text/plain": [
       "      SUBJECT_ID                                                NDC  \\\n",
       "1628    15430683  [904516561, 574705050, 143178701, 54839224, 51...   \n",
       "\n",
       "                                           NDC_FEATURES  \n",
       "1628  [0, 0, 0, 1, 0, 0, 1, 0, 1, 0, 0, 0, 0, 0, 0, ...  "
      ]
     },
     "metadata": {},
     "output_type": "display_data"
    },
    {
     "name": "stdout",
     "output_type": "stream",
     "text": [
      "[904516561, 574705050, 143178701, 54839224, 51079000220, 0, 904224461, 536338101, 338069104, 781305714, 51079000220, 406055262, 143178701, 338004904, 781305714, 55390000401, 143125401, 409490234, 223176001, 536338101, 10019017644, 143125401, 0, 0, 264310311, 143125401, 143125401, 11980002515, 143125401, 143125401, 143125401, 517090125, 904224461, 406055262, 0, 51079096620]\n"
     ]
    },
    {
     "data": {
      "text/html": [
       "<div>\n",
       "<style scoped>\n",
       "    .dataframe tbody tr th:only-of-type {\n",
       "        vertical-align: middle;\n",
       "    }\n",
       "\n",
       "    .dataframe tbody tr th {\n",
       "        vertical-align: top;\n",
       "    }\n",
       "\n",
       "    .dataframe thead th {\n",
       "        text-align: right;\n",
       "    }\n",
       "</style>\n",
       "<table border=\"1\" class=\"dataframe\">\n",
       "  <thead>\n",
       "    <tr style=\"text-align: right;\">\n",
       "      <th></th>\n",
       "      <th>SUBJECT_ID</th>\n",
       "      <th>ICD_CODE</th>\n",
       "      <th>ICD_FEATURES</th>\n",
       "    </tr>\n",
       "  </thead>\n",
       "  <tbody>\n",
       "    <tr>\n",
       "      <th>1359</th>\n",
       "      <td>15430683</td>\n",
       "      <td>[8687_9, 0765_9]</td>\n",
       "      <td>[0, 0, 0, 0, 0, 0, 0, 0, 0, 0, 0, 0, 0, 0, 0, ...</td>\n",
       "    </tr>\n",
       "  </tbody>\n",
       "</table>\n",
       "</div>"
      ],
      "text/plain": [
       "      SUBJECT_ID          ICD_CODE  \\\n",
       "1359    15430683  [8687_9, 0765_9]   \n",
       "\n",
       "                                           ICD_FEATURES  \n",
       "1359  [0, 0, 0, 0, 0, 0, 0, 0, 0, 0, 0, 0, 0, 0, 0, ...  "
      ]
     },
     "metadata": {},
     "output_type": "display_data"
    },
    {
     "name": "stdout",
     "output_type": "stream",
     "text": [
      "['8687_9', '0765_9']\n"
     ]
    },
    {
     "data": {
      "text/html": [
       "<div>\n",
       "<style scoped>\n",
       "    .dataframe tbody tr th:only-of-type {\n",
       "        vertical-align: middle;\n",
       "    }\n",
       "\n",
       "    .dataframe tbody tr th {\n",
       "        vertical-align: top;\n",
       "    }\n",
       "\n",
       "    .dataframe thead th {\n",
       "        text-align: right;\n",
       "    }\n",
       "</style>\n",
       "<table border=\"1\" class=\"dataframe\">\n",
       "  <thead>\n",
       "    <tr style=\"text-align: right;\">\n",
       "      <th></th>\n",
       "      <th>SUBJECT_ID</th>\n",
       "      <th>CHART</th>\n",
       "      <th>CHART_FEATURES</th>\n",
       "    </tr>\n",
       "  </thead>\n",
       "  <tbody>\n",
       "    <tr>\n",
       "      <th>1722</th>\n",
       "      <td>15430683</td>\n",
       "      <td>[51221:MED, 51222:MED, 51248:MED, 51249:MED, 5...</td>\n",
       "      <td>[0, 0, 0, 0, 1, 0, 1, 0, 1, 1, 1, 0, 0, 1, 0, ...</td>\n",
       "    </tr>\n",
       "  </tbody>\n",
       "</table>\n",
       "</div>"
      ],
      "text/plain": [
       "      SUBJECT_ID                                              CHART  \\\n",
       "1722    15430683  [51221:MED, 51222:MED, 51248:MED, 51249:MED, 5...   \n",
       "\n",
       "                                         CHART_FEATURES  \n",
       "1722  [0, 0, 0, 0, 1, 0, 1, 0, 1, 1, 1, 0, 0, 1, 0, ...  "
      ]
     },
     "metadata": {},
     "output_type": "display_data"
    },
    {
     "name": "stdout",
     "output_type": "stream",
     "text": [
      "['51221:MED', '51222:MED', '51248:MED', '51249:MED', '51250:MED', '51265:MED', '51277:MED', '51279:MED', '51301:MED', '51237:MED', '51274:MED', '51275:MED', '50868:MED', '50882:MED', '50893:MED', '50902:MED', '50912:MED', '50920:MED', '50931:MED', '50960:MED', '50970:MED', '50971:MED', '50983:MED', '50993:MED', '51006:MED', '51221:MED', '51222:MED', '51248:MED', '51249:MED', '51250:MED', '51265:MED', '51277:MED', '51279:MED', '51301:MED', '50868:MED', '50882:MED', '50893:MED', '50902:MED', '50909:MED', '50912:MED', '50931:MED', '50960:MED', '50971:MED', '50983:MED', '50993:MED', '50994:MED', '50995:MED', '51001:MED', '51006:MED', '51221:MED', '51222:MED', '51248:MED', '51249:MED', '51250:MED', '51265:MED', '51277:MED', '51279:MED', '51301:MED', '51237:MED', '51274:MED', '51275:MED', '50868:MED', '50882:MED', '50893:MED', '50902:MED', '50912:MED', '50931:MED', '50960:MED', '50970:MED', '50971:MED', '50983:MED', '51006:MED', '50868:MED', '50882:MED', '50893:MED', '50902:MED', '50912:MED', '50931:MED', '50960:MED', '50964:MED', '50970:MED', '50971:MED', '50983:MED', '51006:MED', '51078:MED', '51087:MED', '51093:MED', '51097:MED', '51100:MED', '51464:MED', '51466:MED', '51478:MED', '51484:MED', '51486:MED', '51487:MED', '51491:MED', '51492:MED', '51498:MED', '51506:MED', '51508:MED', '51514:MED', '51237:MED', '51274:MED', '51275:MED', '50868:MED', '50882:MED', '50893:MED', '50902:MED', '50909:MED', '50912:MED', '50931:MED', '50960:MED', '50964:MED', '50970:MED', '50971:MED', '50983:MED', '51006:MED', '51221:MED', '51222:MED', '51248:MED', '51249:MED', '51250:MED', '51265:MED', '51277:MED', '51279:MED', '51301:MED', '51464:MED', '51466:MED', '51478:MED', '51484:MED', '51486:MED', '51487:MED', '51491:MED', '51492:MED', '51498:MED', '51506:MED', '51508:MED', '51514:MED', '51078:MED', '51087:MED', '51093:MED', '51097:MED', '51100:MED', '51078:MED', '51087:MED', '51093:MED', '51097:MED', '51100:MED', '51087:MED', '51107:MED', '51464:MED', '51466:MED', '51478:MED', '51484:MED', '51486:MED', '51487:MED', '51491:MED', '51492:MED', '51498:MED', '51506:MED', '51508:MED', '51514:MED', '50868:MED', '50882:MED', '50893:MED', '50902:MED', '50912:MED', '50920:MED', '50931:MED', '50960:MED', '50964:MED', '50970:MED', '50971:MED', '50983:MED', '51006:MED', '51078:MED', '51087:MED', '51093:MED', '51097:MED', '51100:MED', '51464:MED', '51466:MED', '51478:MED', '51484:MED', '51486:MED', '51487:MED', '51491:MED', '51492:MED', '51498:MED', '51506:MED', '51508:MED', '51514:MED', '50868:MED', '50882:MED', '50893:MED', '50902:MED', '50912:MED', '50931:MED', '50960:MED', '50964:MED', '50970:MED', '50971:MED', '50983:MED', '51006:MED', '50868:LOW', '50882:MED', '50893:MED', '50902:MED', '50912:MED', '50931:MED', '50960:MED', '50964:MED', '50970:MED', '50971:MED', '50983:MED', '51006:MED', '51464:MED', '51466:MED', '51478:MED', '51484:MED', '51486:MED', '51487:MED', '51491:MED', '51492:MED', '51498:MED', '51506:MED', '51508:MED', '51514:MED', '51078:MED', '51087:MED', '51093:MED', '51097:MED', '51100:MED', '51078:MED', '51087:MED', '51093:MED', '51097:MED', '51100:MED', '51464:MED', '51466:MED', '51478:MED', '51484:MED', '51486:MED', '51487:MED', '51491:MED', '51492:MED', '51498:MED', '51506:MED', '51508:MED', '51514:MED', '50868:LOW', '50882:MED', '50893:MED', '50902:MED', '50912:MED', '50931:MED', '50960:MED', '50964:MED', '50970:MED', '50971:MED', '50983:MED', '51006:MED', '50868:MED', '50882:MED', '50893:MED', '50902:MED', '50912:MED', '50931:MED', '50960:MED', '50964:MED', '50970:MED', '50971:MED', '50983:MED', '51006:MED', '50902:MED', '50964:MED', '50971:MED', '50983:MED', '50868:LOW', '50882:MED', '50893:MED', '50902:MED', '50912:MED', '50931:MED', '50960:MED', '50964:MED', '50970:MED', '50971:MED', '50983:MED', '51006:MED', '51078:MED', '51087:MED', '51093:MED', '51097:MED', '51100:MED', '51464:MED', '51466:MED', '51478:MED', '51484:MED', '51486:MED', '51487:MED', '51491:MED', '51492:MED', '51498:MED', '51506:MED', '51508:MED', '51514:MED']\n"
     ]
    }
   ],
   "source": [
    "no_patid = 15430683\n",
    "patient_info = patient_df[patient_df['SUBJECT_ID'] == no_patid]\n",
    "display(patient_info)\n",
    "med_grouped_info = med_grouped_df[med_grouped_df['SUBJECT_ID'] == no_patid]\n",
    "display(med_grouped_info)\n",
    "print(list(med_grouped_info['NDC'])[0])\n",
    "procedure_grouped_info = procedure_grouped_df[procedure_grouped_df['SUBJECT_ID'] == no_patid]\n",
    "display(procedure_grouped_info)\n",
    "print(list(procedure_grouped_info['ICD_CODE'])[0])\n",
    "lab_grouped_info = lab_grouped_df[lab_grouped_df['SUBJECT_ID'] == no_patid]\n",
    "display(lab_grouped_info)\n",
    "print(list(lab_grouped_info['CHART'])[0])"
   ]
  },
  {
   "cell_type": "markdown",
   "id": "ba65efd6",
   "metadata": {},
   "source": [
    "## MERGE"
   ]
  },
  {
   "cell_type": "code",
   "execution_count": 56,
   "id": "22db0ab8",
   "metadata": {},
   "outputs": [
    {
     "name": "stdout",
     "output_type": "stream",
     "text": [
      "3197\n",
      "2518 2982 3166\n",
      "3004\n"
     ]
    }
   ],
   "source": [
    "encounter_dict = dict()\n",
    "procedure_found = 0\n",
    "med_found = 0\n",
    "lab_found = 0\n",
    "deleted = 0\n",
    "\n",
    "for i in range(len(patient_df)): \n",
    "    \n",
    "    procedure_flag = 0\n",
    "    med_flag = 0\n",
    "    lab_flag = 0\n",
    "    \n",
    "    subjid = patient_df[\"SUBJECT_ID\"][i]\n",
    "    \n",
    "    key = str(subjid)\n",
    "    encounter_dict[key] = dict()\n",
    "    \n",
    "    encounter_dict[key][\"GENDER\"] = patient_df[\"GENDER\"][i]\n",
    "    \n",
    "    encounter_dict[key]['Procedures_ICD_Features'] = np.zeros(len(icd_codes_mapping), dtype=int)\n",
    "    encounter_dict[key]['Medication_NDC_Features'] = np.zeros(len(ndc_mapping), dtype=int)\n",
    "    encounter_dict[key]['Lab_Chart_Features'] = np.zeros(len(chart_final_mapping), dtype=int)\n",
    "    \n",
    "    encounter_dict[key]['PANCAN'] = patient_df[\"PANCAN\"][i]\n",
    "    \n",
    "    for j in range(len(procedure_grouped_df)):\n",
    "        if(procedure_grouped_df['SUBJECT_ID'][j]==subjid):\n",
    "            encounter_dict[key]['Procedures_ICD_Features'] = procedure_grouped_df['ICD_FEATURES'][j]\n",
    "            procedure_found+=1\n",
    "            procedure_flag = 1\n",
    "            \n",
    "    for j in range(len(med_grouped_df)):\n",
    "        if(med_grouped_df['SUBJECT_ID'][j]==subjid):\n",
    "            encounter_dict[key]['Medication_NDC_Features'] = med_grouped_df['NDC_FEATURES'][j]\n",
    "            med_found+=1\n",
    "            med_flag= 1\n",
    "            \n",
    "    for j in range(len(lab_grouped_df)):\n",
    "        if(lab_grouped_df['SUBJECT_ID'][j]==subjid):\n",
    "            encounter_dict[key]['Lab_Chart_Features'] = lab_grouped_df['CHART_FEATURES'][j]\n",
    "            lab_found+=1\n",
    "            lab_flag = 1\n",
    "            \n",
    "    if((procedure_flag+med_flag+lab_flag) < 2):\n",
    "        deleted +=1\n",
    "        del encounter_dict[key]\n",
    "\n",
    "print(len(patient_df))\n",
    "print(procedure_found, med_found, lab_found)\n",
    "print(len(encounter_dict))"
   ]
  },
  {
   "cell_type": "code",
   "execution_count": 57,
   "id": "01cd128f",
   "metadata": {},
   "outputs": [
    {
     "name": "stdout",
     "output_type": "stream",
     "text": [
      "3004\n",
      "5\n"
     ]
    },
    {
     "data": {
      "text/html": [
       "<div>\n",
       "<style scoped>\n",
       "    .dataframe tbody tr th:only-of-type {\n",
       "        vertical-align: middle;\n",
       "    }\n",
       "\n",
       "    .dataframe tbody tr th {\n",
       "        vertical-align: top;\n",
       "    }\n",
       "\n",
       "    .dataframe thead th {\n",
       "        text-align: right;\n",
       "    }\n",
       "</style>\n",
       "<table border=\"1\" class=\"dataframe\">\n",
       "  <thead>\n",
       "    <tr style=\"text-align: right;\">\n",
       "      <th></th>\n",
       "      <th>PATIENT_KEY</th>\n",
       "      <th>GENDER</th>\n",
       "      <th>Procedures_ICD_Features</th>\n",
       "      <th>Medication_NDC_Features</th>\n",
       "      <th>Lab_Chart_Features</th>\n",
       "      <th>PANCAN</th>\n",
       "    </tr>\n",
       "  </thead>\n",
       "  <tbody>\n",
       "    <tr>\n",
       "      <th>0</th>\n",
       "      <td>10002760</td>\n",
       "      <td>0</td>\n",
       "      <td>[1, 0, 0, 0, 0, 0, 0, 0, 0, 0, 0, 0, 0, 0, 0, ...</td>\n",
       "      <td>[1, 1, 1, 1, 1, 1, 1, 1, 1, 1, 1, 1, 1, 1, 1, ...</td>\n",
       "      <td>[1, 1, 1, 1, 1, 1, 1, 1, 1, 1, 1, 1, 1, 1, 1, ...</td>\n",
       "      <td>0</td>\n",
       "    </tr>\n",
       "    <tr>\n",
       "      <th>1</th>\n",
       "      <td>10005866</td>\n",
       "      <td>0</td>\n",
       "      <td>[0, 1, 1, 1, 1, 1, 1, 1, 0, 0, 0, 0, 0, 0, 0, ...</td>\n",
       "      <td>[0, 0, 0, 1, 0, 0, 0, 1, 0, 0, 0, 0, 1, 0, 0, ...</td>\n",
       "      <td>[1, 1, 1, 1, 1, 1, 1, 1, 1, 1, 1, 0, 1, 1, 1, ...</td>\n",
       "      <td>0</td>\n",
       "    </tr>\n",
       "    <tr>\n",
       "      <th>2</th>\n",
       "      <td>10006029</td>\n",
       "      <td>0</td>\n",
       "      <td>[0, 1, 0, 0, 0, 0, 0, 0, 1, 1, 1, 1, 1, 0, 0, ...</td>\n",
       "      <td>[0, 0, 0, 1, 0, 0, 0, 0, 0, 0, 0, 0, 0, 0, 0, ...</td>\n",
       "      <td>[1, 1, 1, 1, 1, 1, 1, 1, 1, 1, 1, 0, 1, 1, 0, ...</td>\n",
       "      <td>1</td>\n",
       "    </tr>\n",
       "    <tr>\n",
       "      <th>3</th>\n",
       "      <td>10006431</td>\n",
       "      <td>1</td>\n",
       "      <td>[0, 0, 0, 0, 0, 0, 0, 0, 0, 1, 1, 0, 0, 0, 0, ...</td>\n",
       "      <td>[0, 0, 0, 1, 0, 0, 0, 1, 0, 0, 0, 0, 0, 0, 0, ...</td>\n",
       "      <td>[1, 1, 1, 1, 1, 1, 1, 1, 1, 1, 1, 1, 1, 1, 1, ...</td>\n",
       "      <td>1</td>\n",
       "    </tr>\n",
       "    <tr>\n",
       "      <th>4</th>\n",
       "      <td>10014234</td>\n",
       "      <td>0</td>\n",
       "      <td>[0, 0, 0, 0, 0, 0, 0, 0, 0, 0, 0, 0, 0, 0, 0, ...</td>\n",
       "      <td>[0, 0, 0, 1, 0, 0, 0, 0, 0, 0, 0, 0, 0, 0, 0, ...</td>\n",
       "      <td>[1, 1, 1, 0, 1, 1, 1, 1, 1, 1, 1, 0, 0, 1, 0, ...</td>\n",
       "      <td>1</td>\n",
       "    </tr>\n",
       "  </tbody>\n",
       "</table>\n",
       "</div>"
      ],
      "text/plain": [
       "  PATIENT_KEY GENDER                            Procedures_ICD_Features  \\\n",
       "0    10002760      0  [1, 0, 0, 0, 0, 0, 0, 0, 0, 0, 0, 0, 0, 0, 0, ...   \n",
       "1    10005866      0  [0, 1, 1, 1, 1, 1, 1, 1, 0, 0, 0, 0, 0, 0, 0, ...   \n",
       "2    10006029      0  [0, 1, 0, 0, 0, 0, 0, 0, 1, 1, 1, 1, 1, 0, 0, ...   \n",
       "3    10006431      1  [0, 0, 0, 0, 0, 0, 0, 0, 0, 1, 1, 0, 0, 0, 0, ...   \n",
       "4    10014234      0  [0, 0, 0, 0, 0, 0, 0, 0, 0, 0, 0, 0, 0, 0, 0, ...   \n",
       "\n",
       "                             Medication_NDC_Features  \\\n",
       "0  [1, 1, 1, 1, 1, 1, 1, 1, 1, 1, 1, 1, 1, 1, 1, ...   \n",
       "1  [0, 0, 0, 1, 0, 0, 0, 1, 0, 0, 0, 0, 1, 0, 0, ...   \n",
       "2  [0, 0, 0, 1, 0, 0, 0, 0, 0, 0, 0, 0, 0, 0, 0, ...   \n",
       "3  [0, 0, 0, 1, 0, 0, 0, 1, 0, 0, 0, 0, 0, 0, 0, ...   \n",
       "4  [0, 0, 0, 1, 0, 0, 0, 0, 0, 0, 0, 0, 0, 0, 0, ...   \n",
       "\n",
       "                                  Lab_Chart_Features PANCAN  \n",
       "0  [1, 1, 1, 1, 1, 1, 1, 1, 1, 1, 1, 1, 1, 1, 1, ...      0  \n",
       "1  [1, 1, 1, 1, 1, 1, 1, 1, 1, 1, 1, 0, 1, 1, 1, ...      0  \n",
       "2  [1, 1, 1, 1, 1, 1, 1, 1, 1, 1, 1, 0, 1, 1, 0, ...      1  \n",
       "3  [1, 1, 1, 1, 1, 1, 1, 1, 1, 1, 1, 1, 1, 1, 1, ...      1  \n",
       "4  [1, 1, 1, 0, 1, 1, 1, 1, 1, 1, 1, 0, 0, 1, 0, ...      1  "
      ]
     },
     "execution_count": 57,
     "metadata": {},
     "output_type": "execute_result"
    }
   ],
   "source": [
    "mimic = pd.DataFrame(encounter_dict).T\n",
    "print(len(mimic))\n",
    "print(len(mimic.columns))\n",
    "mimic['PATIENT_KEY'] = mimic.index\n",
    "mimic = mimic[['PATIENT_KEY'] + [col for col in mimic.columns if col != 'PATIENT_KEY']]\n",
    "mimic.reset_index(drop=True, inplace=True)\n",
    "mimic.head()"
   ]
  },
  {
   "cell_type": "code",
   "execution_count": 58,
   "id": "3d5a5838",
   "metadata": {},
   "outputs": [
    {
     "data": {
      "text/html": [
       "<div>\n",
       "<style scoped>\n",
       "    .dataframe tbody tr th:only-of-type {\n",
       "        vertical-align: middle;\n",
       "    }\n",
       "\n",
       "    .dataframe tbody tr th {\n",
       "        vertical-align: top;\n",
       "    }\n",
       "\n",
       "    .dataframe thead th {\n",
       "        text-align: right;\n",
       "    }\n",
       "</style>\n",
       "<table border=\"1\" class=\"dataframe\">\n",
       "  <thead>\n",
       "    <tr style=\"text-align: right;\">\n",
       "      <th></th>\n",
       "      <th>PATIENT_KEY</th>\n",
       "      <th>GENDER</th>\n",
       "      <th>Procedures_ICD_Features</th>\n",
       "      <th>Medication_NDC_Features</th>\n",
       "      <th>Lab_Chart_Features</th>\n",
       "      <th>PANCAN</th>\n",
       "      <th>EHR_Features</th>\n",
       "    </tr>\n",
       "  </thead>\n",
       "  <tbody>\n",
       "    <tr>\n",
       "      <th>0</th>\n",
       "      <td>10002760</td>\n",
       "      <td>0</td>\n",
       "      <td>[1, 0, 0, 0, 0, 0, 0, 0, 0, 0, 0, 0, 0, 0, 0, ...</td>\n",
       "      <td>[1, 1, 1, 1, 1, 1, 1, 1, 1, 1, 1, 1, 1, 1, 1, ...</td>\n",
       "      <td>[1, 1, 1, 1, 1, 1, 1, 1, 1, 1, 1, 1, 1, 1, 1, ...</td>\n",
       "      <td>0</td>\n",
       "      <td>[0, 1, 0, 0, 0, 0, 0, 0, 0, 0, 0, 0, 0, 0, 0, ...</td>\n",
       "    </tr>\n",
       "    <tr>\n",
       "      <th>1</th>\n",
       "      <td>10005866</td>\n",
       "      <td>0</td>\n",
       "      <td>[0, 1, 1, 1, 1, 1, 1, 1, 0, 0, 0, 0, 0, 0, 0, ...</td>\n",
       "      <td>[0, 0, 0, 1, 0, 0, 0, 1, 0, 0, 0, 0, 1, 0, 0, ...</td>\n",
       "      <td>[1, 1, 1, 1, 1, 1, 1, 1, 1, 1, 1, 0, 1, 1, 1, ...</td>\n",
       "      <td>0</td>\n",
       "      <td>[0, 0, 1, 1, 1, 1, 1, 1, 1, 0, 0, 0, 0, 0, 0, ...</td>\n",
       "    </tr>\n",
       "    <tr>\n",
       "      <th>2</th>\n",
       "      <td>10006029</td>\n",
       "      <td>0</td>\n",
       "      <td>[0, 1, 0, 0, 0, 0, 0, 0, 1, 1, 1, 1, 1, 0, 0, ...</td>\n",
       "      <td>[0, 0, 0, 1, 0, 0, 0, 0, 0, 0, 0, 0, 0, 0, 0, ...</td>\n",
       "      <td>[1, 1, 1, 1, 1, 1, 1, 1, 1, 1, 1, 0, 1, 1, 0, ...</td>\n",
       "      <td>1</td>\n",
       "      <td>[0, 0, 1, 0, 0, 0, 0, 0, 0, 1, 1, 1, 1, 1, 0, ...</td>\n",
       "    </tr>\n",
       "    <tr>\n",
       "      <th>3</th>\n",
       "      <td>10006431</td>\n",
       "      <td>1</td>\n",
       "      <td>[0, 0, 0, 0, 0, 0, 0, 0, 0, 1, 1, 0, 0, 0, 0, ...</td>\n",
       "      <td>[0, 0, 0, 1, 0, 0, 0, 1, 0, 0, 0, 0, 0, 0, 0, ...</td>\n",
       "      <td>[1, 1, 1, 1, 1, 1, 1, 1, 1, 1, 1, 1, 1, 1, 1, ...</td>\n",
       "      <td>1</td>\n",
       "      <td>[1, 0, 0, 0, 0, 0, 0, 0, 0, 0, 1, 1, 0, 0, 0, ...</td>\n",
       "    </tr>\n",
       "    <tr>\n",
       "      <th>4</th>\n",
       "      <td>10014234</td>\n",
       "      <td>0</td>\n",
       "      <td>[0, 0, 0, 0, 0, 0, 0, 0, 0, 0, 0, 0, 0, 0, 0, ...</td>\n",
       "      <td>[0, 0, 0, 1, 0, 0, 0, 0, 0, 0, 0, 0, 0, 0, 0, ...</td>\n",
       "      <td>[1, 1, 1, 0, 1, 1, 1, 1, 1, 1, 1, 0, 0, 1, 0, ...</td>\n",
       "      <td>1</td>\n",
       "      <td>[0, 0, 0, 0, 0, 0, 0, 0, 0, 0, 0, 0, 0, 0, 0, ...</td>\n",
       "    </tr>\n",
       "  </tbody>\n",
       "</table>\n",
       "</div>"
      ],
      "text/plain": [
       "  PATIENT_KEY GENDER                            Procedures_ICD_Features  \\\n",
       "0    10002760      0  [1, 0, 0, 0, 0, 0, 0, 0, 0, 0, 0, 0, 0, 0, 0, ...   \n",
       "1    10005866      0  [0, 1, 1, 1, 1, 1, 1, 1, 0, 0, 0, 0, 0, 0, 0, ...   \n",
       "2    10006029      0  [0, 1, 0, 0, 0, 0, 0, 0, 1, 1, 1, 1, 1, 0, 0, ...   \n",
       "3    10006431      1  [0, 0, 0, 0, 0, 0, 0, 0, 0, 1, 1, 0, 0, 0, 0, ...   \n",
       "4    10014234      0  [0, 0, 0, 0, 0, 0, 0, 0, 0, 0, 0, 0, 0, 0, 0, ...   \n",
       "\n",
       "                             Medication_NDC_Features  \\\n",
       "0  [1, 1, 1, 1, 1, 1, 1, 1, 1, 1, 1, 1, 1, 1, 1, ...   \n",
       "1  [0, 0, 0, 1, 0, 0, 0, 1, 0, 0, 0, 0, 1, 0, 0, ...   \n",
       "2  [0, 0, 0, 1, 0, 0, 0, 0, 0, 0, 0, 0, 0, 0, 0, ...   \n",
       "3  [0, 0, 0, 1, 0, 0, 0, 1, 0, 0, 0, 0, 0, 0, 0, ...   \n",
       "4  [0, 0, 0, 1, 0, 0, 0, 0, 0, 0, 0, 0, 0, 0, 0, ...   \n",
       "\n",
       "                                  Lab_Chart_Features PANCAN  \\\n",
       "0  [1, 1, 1, 1, 1, 1, 1, 1, 1, 1, 1, 1, 1, 1, 1, ...      0   \n",
       "1  [1, 1, 1, 1, 1, 1, 1, 1, 1, 1, 1, 0, 1, 1, 1, ...      0   \n",
       "2  [1, 1, 1, 1, 1, 1, 1, 1, 1, 1, 1, 0, 1, 1, 0, ...      1   \n",
       "3  [1, 1, 1, 1, 1, 1, 1, 1, 1, 1, 1, 1, 1, 1, 1, ...      1   \n",
       "4  [1, 1, 1, 0, 1, 1, 1, 1, 1, 1, 1, 0, 0, 1, 0, ...      1   \n",
       "\n",
       "                                        EHR_Features  \n",
       "0  [0, 1, 0, 0, 0, 0, 0, 0, 0, 0, 0, 0, 0, 0, 0, ...  \n",
       "1  [0, 0, 1, 1, 1, 1, 1, 1, 1, 0, 0, 0, 0, 0, 0, ...  \n",
       "2  [0, 0, 1, 0, 0, 0, 0, 0, 0, 1, 1, 1, 1, 1, 0, ...  \n",
       "3  [1, 0, 0, 0, 0, 0, 0, 0, 0, 0, 1, 1, 0, 0, 0, ...  \n",
       "4  [0, 0, 0, 0, 0, 0, 0, 0, 0, 0, 0, 0, 0, 0, 0, ...  "
      ]
     },
     "execution_count": 58,
     "metadata": {},
     "output_type": "execute_result"
    }
   ],
   "source": [
    "def concatenate_all(row):\n",
    "    return [row['GENDER']] + list(row['Procedures_ICD_Features']) + list(row['Medication_NDC_Features']) + list(row['Lab_Chart_Features'])\n",
    "mimic[\"EHR_Features\"] = mimic.apply(concatenate_all, axis=1)\n",
    "mimic.head()"
   ]
  },
  {
   "cell_type": "code",
   "execution_count": 50,
   "id": "47baaf0a",
   "metadata": {},
   "outputs": [],
   "source": [
    "mimic.to_csv(\"./processed/MIMIC_Final.csv\")"
   ]
  },
  {
   "cell_type": "markdown",
   "id": "5873cf27",
   "metadata": {},
   "source": [
    "### Get X and Y for only EHR"
   ]
  },
  {
   "cell_type": "code",
   "execution_count": 63,
   "id": "36c8c4d5",
   "metadata": {},
   "outputs": [
    {
     "name": "stdout",
     "output_type": "stream",
     "text": [
      "(3004, 883) [0 1 0 0 0] [0 0 1 1 1]\n"
     ]
    }
   ],
   "source": [
    "X = []\n",
    "for i in range(len(mimic)):\n",
    "    X.append(mimic[\"EHR_Features\"][i]) \n",
    "X = np.array(X)\n",
    "print(X.shape, X[0][:5], X[1][:5])\n",
    "np.save('processed/MIMIC_X.npy', X)"
   ]
  },
  {
   "cell_type": "code",
   "execution_count": null,
   "id": "0ca133a1",
   "metadata": {},
   "outputs": [],
   "source": []
  },
  {
   "cell_type": "code",
   "execution_count": 51,
   "id": "9419a3a6",
   "metadata": {},
   "outputs": [
    {
     "data": {
      "text/html": [
       "<div>\n",
       "<style scoped>\n",
       "    .dataframe tbody tr th:only-of-type {\n",
       "        vertical-align: middle;\n",
       "    }\n",
       "\n",
       "    .dataframe tbody tr th {\n",
       "        vertical-align: top;\n",
       "    }\n",
       "\n",
       "    .dataframe thead th {\n",
       "        text-align: right;\n",
       "    }\n",
       "</style>\n",
       "<table border=\"1\" class=\"dataframe\">\n",
       "  <thead>\n",
       "    <tr style=\"text-align: right;\">\n",
       "      <th></th>\n",
       "      <th>Unnamed: 0</th>\n",
       "      <th>PATIENT_KEY</th>\n",
       "      <th>GENDER</th>\n",
       "      <th>Procedures_ICD_Features</th>\n",
       "      <th>Medication_NDC_Features</th>\n",
       "      <th>Lab_Chart_Features</th>\n",
       "      <th>PANCAN</th>\n",
       "      <th>EHR_Features</th>\n",
       "    </tr>\n",
       "  </thead>\n",
       "  <tbody>\n",
       "    <tr>\n",
       "      <th>0</th>\n",
       "      <td>0</td>\n",
       "      <td>10002760</td>\n",
       "      <td>0</td>\n",
       "      <td>[1, 0, 0, 0, 0, 0, 0, 0, 0, 0, 0, 0, 0, 0, 0, ...</td>\n",
       "      <td>[1, 1, 1, 1, 1, 1, 1, 1, 1, 1, 1, 1, 1, 1, 1, ...</td>\n",
       "      <td>[1, 1, 1, 1, 1, 1, 1, 1, 1, 1, 1, 1, 1, 1, 1, ...</td>\n",
       "      <td>0</td>\n",
       "      <td>[0, 1, 0, 0, 0, 0, 0, 0, 0, 0, 0, 0, 0, 0, 0, ...</td>\n",
       "    </tr>\n",
       "    <tr>\n",
       "      <th>1</th>\n",
       "      <td>1</td>\n",
       "      <td>10005866</td>\n",
       "      <td>0</td>\n",
       "      <td>[0, 1, 1, 1, 1, 1, 1, 1, 0, 0, 0, 0, 0, 0, 0, ...</td>\n",
       "      <td>[0, 0, 0, 1, 0, 0, 0, 1, 0, 0, 0, 0, 1, 0, 0, ...</td>\n",
       "      <td>[1, 1, 1, 1, 1, 1, 1, 1, 1, 1, 1, 0, 1, 1, 1, ...</td>\n",
       "      <td>0</td>\n",
       "      <td>[0, 0, 1, 1, 1, 1, 1, 1, 1, 0, 0, 0, 0, 0, 0, ...</td>\n",
       "    </tr>\n",
       "    <tr>\n",
       "      <th>2</th>\n",
       "      <td>2</td>\n",
       "      <td>10006029</td>\n",
       "      <td>0</td>\n",
       "      <td>[0, 1, 0, 0, 0, 0, 0, 0, 1, 1, 1, 1, 1, 0, 0, ...</td>\n",
       "      <td>[0, 0, 0, 1, 0, 0, 0, 0, 0, 0, 0, 0, 0, 0, 0, ...</td>\n",
       "      <td>[1, 1, 1, 1, 1, 1, 1, 1, 1, 1, 1, 0, 1, 1, 0, ...</td>\n",
       "      <td>1</td>\n",
       "      <td>[0, 0, 1, 0, 0, 0, 0, 0, 0, 1, 1, 1, 1, 1, 0, ...</td>\n",
       "    </tr>\n",
       "    <tr>\n",
       "      <th>3</th>\n",
       "      <td>3</td>\n",
       "      <td>10006431</td>\n",
       "      <td>1</td>\n",
       "      <td>[0, 0, 0, 0, 0, 0, 0, 0, 0, 1, 1, 0, 0, 0, 0, ...</td>\n",
       "      <td>[0, 0, 0, 1, 0, 0, 0, 1, 0, 0, 0, 0, 0, 0, 0, ...</td>\n",
       "      <td>[1, 1, 1, 1, 1, 1, 1, 1, 1, 1, 1, 1, 1, 1, 1, ...</td>\n",
       "      <td>1</td>\n",
       "      <td>[1, 0, 0, 0, 0, 0, 0, 0, 0, 0, 1, 1, 0, 0, 0, ...</td>\n",
       "    </tr>\n",
       "    <tr>\n",
       "      <th>4</th>\n",
       "      <td>4</td>\n",
       "      <td>10014234</td>\n",
       "      <td>0</td>\n",
       "      <td>[0 0 0 0 0 0 0 0 0 0 0 0 0 0 0 0 0 0 0 0 0 0 0...</td>\n",
       "      <td>[0, 0, 0, 1, 0, 0, 0, 0, 0, 0, 0, 0, 0, 0, 0, ...</td>\n",
       "      <td>[1, 1, 1, 0, 1, 1, 1, 1, 1, 1, 1, 0, 0, 1, 0, ...</td>\n",
       "      <td>1</td>\n",
       "      <td>[0, 0, 0, 0, 0, 0, 0, 0, 0, 0, 0, 0, 0, 0, 0, ...</td>\n",
       "    </tr>\n",
       "  </tbody>\n",
       "</table>\n",
       "</div>"
      ],
      "text/plain": [
       "   Unnamed: 0  PATIENT_KEY  GENDER  \\\n",
       "0           0     10002760       0   \n",
       "1           1     10005866       0   \n",
       "2           2     10006029       0   \n",
       "3           3     10006431       1   \n",
       "4           4     10014234       0   \n",
       "\n",
       "                             Procedures_ICD_Features  \\\n",
       "0  [1, 0, 0, 0, 0, 0, 0, 0, 0, 0, 0, 0, 0, 0, 0, ...   \n",
       "1  [0, 1, 1, 1, 1, 1, 1, 1, 0, 0, 0, 0, 0, 0, 0, ...   \n",
       "2  [0, 1, 0, 0, 0, 0, 0, 0, 1, 1, 1, 1, 1, 0, 0, ...   \n",
       "3  [0, 0, 0, 0, 0, 0, 0, 0, 0, 1, 1, 0, 0, 0, 0, ...   \n",
       "4  [0 0 0 0 0 0 0 0 0 0 0 0 0 0 0 0 0 0 0 0 0 0 0...   \n",
       "\n",
       "                             Medication_NDC_Features  \\\n",
       "0  [1, 1, 1, 1, 1, 1, 1, 1, 1, 1, 1, 1, 1, 1, 1, ...   \n",
       "1  [0, 0, 0, 1, 0, 0, 0, 1, 0, 0, 0, 0, 1, 0, 0, ...   \n",
       "2  [0, 0, 0, 1, 0, 0, 0, 0, 0, 0, 0, 0, 0, 0, 0, ...   \n",
       "3  [0, 0, 0, 1, 0, 0, 0, 1, 0, 0, 0, 0, 0, 0, 0, ...   \n",
       "4  [0, 0, 0, 1, 0, 0, 0, 0, 0, 0, 0, 0, 0, 0, 0, ...   \n",
       "\n",
       "                                  Lab_Chart_Features  PANCAN  \\\n",
       "0  [1, 1, 1, 1, 1, 1, 1, 1, 1, 1, 1, 1, 1, 1, 1, ...       0   \n",
       "1  [1, 1, 1, 1, 1, 1, 1, 1, 1, 1, 1, 0, 1, 1, 1, ...       0   \n",
       "2  [1, 1, 1, 1, 1, 1, 1, 1, 1, 1, 1, 0, 1, 1, 0, ...       1   \n",
       "3  [1, 1, 1, 1, 1, 1, 1, 1, 1, 1, 1, 1, 1, 1, 1, ...       1   \n",
       "4  [1, 1, 1, 0, 1, 1, 1, 1, 1, 1, 1, 0, 0, 1, 0, ...       1   \n",
       "\n",
       "                                        EHR_Features  \n",
       "0  [0, 1, 0, 0, 0, 0, 0, 0, 0, 0, 0, 0, 0, 0, 0, ...  \n",
       "1  [0, 0, 1, 1, 1, 1, 1, 1, 1, 0, 0, 0, 0, 0, 0, ...  \n",
       "2  [0, 0, 1, 0, 0, 0, 0, 0, 0, 1, 1, 1, 1, 1, 0, ...  \n",
       "3  [1, 0, 0, 0, 0, 0, 0, 0, 0, 0, 1, 1, 0, 0, 0, ...  \n",
       "4  [0, 0, 0, 0, 0, 0, 0, 0, 0, 0, 0, 0, 0, 0, 0, ...  "
      ]
     },
     "execution_count": 51,
     "metadata": {},
     "output_type": "execute_result"
    }
   ],
   "source": [
    "mimic_df = pd.read_csv(\"./processed/MIMIC_Final.csv\")\n",
    "mimic_df.head()"
   ]
  },
  {
   "cell_type": "code",
   "execution_count": 54,
   "id": "a58263da",
   "metadata": {},
   "outputs": [],
   "source": [
    "for i in range(len(mimic)):\n",
    "    if(len(mimic[\"EHR_Features\"][i])!=2649):\n",
    "        print(len(mimic[\"EHR_Features\"][i]))"
   ]
  }
 ],
 "metadata": {
  "kernelspec": {
   "display_name": "Python 3 (ipykernel)",
   "language": "python",
   "name": "python3"
  },
  "language_info": {
   "codemirror_mode": {
    "name": "ipython",
    "version": 3
   },
   "file_extension": ".py",
   "mimetype": "text/x-python",
   "name": "python",
   "nbconvert_exporter": "python",
   "pygments_lexer": "ipython3",
   "version": "3.11.4"
  }
 },
 "nbformat": 4,
 "nbformat_minor": 5
}
