{
 "cells": [
  {
   "cell_type": "code",
   "execution_count": 1,
   "id": "425b2600-bfbf-4095-af71-34d66ce59c4c",
   "metadata": {},
   "outputs": [],
   "source": [
    "from transformers import AutoTokenizer, AutoModel\n",
    "import torch\n",
    "import pandas as pd\n",
    "import numpy as np"
   ]
  },
  {
   "cell_type": "code",
   "execution_count": 4,
   "id": "412da0a9-f608-476e-bb43-8c6218a2cf66",
   "metadata": {},
   "outputs": [
    {
     "name": "stdout",
     "output_type": "stream",
     "text": [
      "17116\n",
      "8473 8643\n"
     ]
    }
   ],
   "source": [
    "tokenizer = AutoTokenizer.from_pretrained(\"emilyalsentzer/Bio_ClinicalBERT\")\n",
    "model = AutoModel.from_pretrained(\"emilyalsentzer/Bio_ClinicalBERT\")\n",
    "\n",
    "def vectorize_clinical_note(text):\n",
    "    inputs = tokenizer(text, return_tensors=\"pt\", max_length=512, truncation=True, padding=\"max_length\")\n",
    "    with torch.no_grad():\n",
    "        outputs = model(**inputs)\n",
    "    embeddings = outputs.last_hidden_state.mean(dim=1)\n",
    "    return embeddings\n",
    "\n",
    "pancan_subj_path = '../subj_hadm_process/pancan_subj.npy'\n",
    "safe_subj_path = '../subj_hadm_process/safe_subj.npy'\n",
    "\n",
    "import json\n",
    "\n",
    "with open('../subj_hadm_process/hadms.json', 'r') as f: ### PUT NAME OF THRID FILE HERE\n",
    "    json_data = json.load(f)\n",
    "json_data = {int(k): int(v) for k, v in json_data.items()}\n",
    "\n",
    "valid_hadms = []\n",
    "for key in json_data:\n",
    "    valid_hadms.append(json_data[key])\n",
    "print(len(valid_hadms)) #610\n",
    "\n",
    "pancan_subj = np.load(pancan_subj_path, allow_pickle=True).tolist()\n",
    "safe_subj = np.load(safe_subj_path, allow_pickle=True).tolist()\n",
    "\n",
    "# Load the clinical notes DataFrame\n",
    "csv_file_path = '/Users/kushagragarwal2443/Documents/CMU/mimic-iv-note-deidentified-free-text-clinical-notes-2.2/note/discharge.csv'\n",
    "df_notes = pd.read_csv(csv_file_path)\n",
    "\n",
    "# Function to filter for the last note per patient and vectorize, adding zero vector if not present\n",
    "def filter_and_vectorize_last_notes(df, patient_list, id_col='subject_id', note_col='text', time_col='charttime', vector_length=768):\n",
    "    # Initialize a dictionary to hold vectors for all patients, defaulting to zero vectors\n",
    "    patient_vectors = {patient_id: np.zeros((vector_length,)) for patient_id in patient_list}\n",
    "\n",
    "    # Filter for the patients of interest who are in the DataFrame\n",
    "    df_filtered = df[df[id_col].isin(patient_list)]\n",
    "\n",
    "    df_filtered = df_filtered[df_filtered['hadm_id'].isin(valid_hadms)].reset_index(drop=True)\n",
    "\n",
    "    # Sort by patient ID and chart time, then drop duplicates to keep only the last entry per patient\n",
    "    df_last_notes = df_filtered.sort_values(by=[id_col, time_col]).reset_index(drop=True)\n",
    "\n",
    "    # Vectorize the final note for each patient in df_last_notes\n",
    "    for _, row in df_last_notes.iterrows():\n",
    "        patient_id = row[id_col]\n",
    "        note_text = row[note_col]\n",
    "        patient_vectors[patient_id] = vectorize_clinical_note(note_text).numpy().flatten()  # Flatten to ensure it's a 1D array\n",
    "\n",
    "    # Convert dictionary values to a numpy array for all patients in the patient_list\n",
    "    vectors = np.array(list(patient_vectors.values()))\n",
    "\n",
    "    return vectors\n",
    "\n",
    "# Vectorize the final clinical note for each patient in both groups, ensuring a zero vector for missing subjects\n",
    "pancan_vectors = filter_and_vectorize_last_notes(df_notes, pancan_subj, id_col='subject_id', note_col='text', time_col='charttime')\n",
    "np.save('./pancan_vectors.npy', pancan_vectors)\n",
    "safe_vectors = filter_and_vectorize_last_notes(df_notes, safe_subj, id_col='subject_id', note_col='text', time_col='charttime')\n",
    "np.save('./safe_vectors.npy', safe_vectors)\n",
    "print(len(pancan_vectors), len(safe_vectors))"
   ]
  },
  {
   "cell_type": "code",
   "execution_count": null,
   "id": "88c22537-6764-4e37-afd6-24817ab14a41",
   "metadata": {},
   "outputs": [],
   "source": []
  }
 ],
 "metadata": {
  "kernelspec": {
   "display_name": "Python 3 (ipykernel)",
   "language": "python",
   "name": "python3"
  },
  "language_info": {
   "codemirror_mode": {
    "name": "ipython",
    "version": 3
   },
   "file_extension": ".py",
   "mimetype": "text/x-python",
   "name": "python",
   "nbconvert_exporter": "python",
   "pygments_lexer": "ipython3",
   "version": "3.11.7"
  }
 },
 "nbformat": 4,
 "nbformat_minor": 5
}
